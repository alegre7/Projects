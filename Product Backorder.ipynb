{
 "cells": [
  {
   "cell_type": "code",
   "execution_count": 1,
   "metadata": {
    "id": "veUIDc_J5zkK"
   },
   "outputs": [],
   "source": [
    "import numpy as np\n",
    "import pandas as pd\n",
    "import matplotlib as mpl\n",
    "import matplotlib.pyplot as plt\n",
    "from pandas import Series\n",
    "import seaborn as sns\n",
    "%matplotlib inline"
   ]
  },
  {
   "cell_type": "code",
   "execution_count": 2,
   "metadata": {},
   "outputs": [],
   "source": [
    "from IPython.core.interactiveshell import InteractiveShell\n",
    "InteractiveShell.ast_node_interactivity = \"all\"\n",
    "import warnings\n",
    "warnings.filterwarnings(\"ignore\")"
   ]
  },
  {
   "cell_type": "code",
   "execution_count": 3,
   "metadata": {
    "id": "dhnXHBLA52No"
   },
   "outputs": [],
   "source": [
    "df_train =pd.read_csv(\"E:\\Term IV\\BDDA 1\\BDDA Projetcs\\Kaggle_Training_Dataset.csv\")"
   ]
  },
  {
   "cell_type": "code",
   "execution_count": 4,
   "metadata": {},
   "outputs": [],
   "source": [
    "df_test = pd.read_csv(\"E:\\Term IV\\BDDA 1\\BDDA Projetcs\\Kaggle_Test_Dataset.csv\")"
   ]
  },
  {
   "cell_type": "code",
   "execution_count": 5,
   "metadata": {
    "colab": {
     "base_uri": "https://localhost:8080/",
     "height": 130
    },
    "id": "coiZZuKC54Zf",
    "outputId": "b08e24d5-9679-4fd0-bc0c-cd9f1a954234"
   },
   "outputs": [
    {
     "data": {
      "text/html": [
       "<div>\n",
       "<style scoped>\n",
       "    .dataframe tbody tr th:only-of-type {\n",
       "        vertical-align: middle;\n",
       "    }\n",
       "\n",
       "    .dataframe tbody tr th {\n",
       "        vertical-align: top;\n",
       "    }\n",
       "\n",
       "    .dataframe thead th {\n",
       "        text-align: right;\n",
       "    }\n",
       "</style>\n",
       "<table border=\"1\" class=\"dataframe\">\n",
       "  <thead>\n",
       "    <tr style=\"text-align: right;\">\n",
       "      <th></th>\n",
       "      <th>sku</th>\n",
       "      <th>national_inv</th>\n",
       "      <th>lead_time</th>\n",
       "      <th>in_transit_qty</th>\n",
       "      <th>forecast_3_month</th>\n",
       "      <th>forecast_6_month</th>\n",
       "      <th>forecast_9_month</th>\n",
       "      <th>sales_1_month</th>\n",
       "      <th>sales_3_month</th>\n",
       "      <th>sales_6_month</th>\n",
       "      <th>...</th>\n",
       "      <th>pieces_past_due</th>\n",
       "      <th>perf_6_month_avg</th>\n",
       "      <th>perf_12_month_avg</th>\n",
       "      <th>local_bo_qty</th>\n",
       "      <th>deck_risk</th>\n",
       "      <th>oe_constraint</th>\n",
       "      <th>ppap_risk</th>\n",
       "      <th>stop_auto_buy</th>\n",
       "      <th>rev_stop</th>\n",
       "      <th>went_on_backorder</th>\n",
       "    </tr>\n",
       "  </thead>\n",
       "  <tbody>\n",
       "    <tr>\n",
       "      <th>0</th>\n",
       "      <td>2079834</td>\n",
       "      <td>23</td>\n",
       "      <td>NaN</td>\n",
       "      <td>0</td>\n",
       "      <td>0</td>\n",
       "      <td>0</td>\n",
       "      <td>0</td>\n",
       "      <td>0</td>\n",
       "      <td>0</td>\n",
       "      <td>0</td>\n",
       "      <td>...</td>\n",
       "      <td>0</td>\n",
       "      <td>-99.0</td>\n",
       "      <td>-99.0</td>\n",
       "      <td>0</td>\n",
       "      <td>Yes</td>\n",
       "      <td>No</td>\n",
       "      <td>No</td>\n",
       "      <td>Yes</td>\n",
       "      <td>No</td>\n",
       "      <td>No</td>\n",
       "    </tr>\n",
       "    <tr>\n",
       "      <th>1</th>\n",
       "      <td>2079835</td>\n",
       "      <td>2</td>\n",
       "      <td>NaN</td>\n",
       "      <td>0</td>\n",
       "      <td>0</td>\n",
       "      <td>0</td>\n",
       "      <td>0</td>\n",
       "      <td>0</td>\n",
       "      <td>0</td>\n",
       "      <td>0</td>\n",
       "      <td>...</td>\n",
       "      <td>0</td>\n",
       "      <td>-99.0</td>\n",
       "      <td>-99.0</td>\n",
       "      <td>0</td>\n",
       "      <td>Yes</td>\n",
       "      <td>No</td>\n",
       "      <td>No</td>\n",
       "      <td>Yes</td>\n",
       "      <td>No</td>\n",
       "      <td>No</td>\n",
       "    </tr>\n",
       "    <tr>\n",
       "      <th>2</th>\n",
       "      <td>2079836</td>\n",
       "      <td>6</td>\n",
       "      <td>NaN</td>\n",
       "      <td>0</td>\n",
       "      <td>0</td>\n",
       "      <td>0</td>\n",
       "      <td>0</td>\n",
       "      <td>0</td>\n",
       "      <td>0</td>\n",
       "      <td>0</td>\n",
       "      <td>...</td>\n",
       "      <td>0</td>\n",
       "      <td>-99.0</td>\n",
       "      <td>-99.0</td>\n",
       "      <td>0</td>\n",
       "      <td>Yes</td>\n",
       "      <td>No</td>\n",
       "      <td>No</td>\n",
       "      <td>Yes</td>\n",
       "      <td>No</td>\n",
       "      <td>No</td>\n",
       "    </tr>\n",
       "    <tr>\n",
       "      <th>3</th>\n",
       "      <td>2079837</td>\n",
       "      <td>87</td>\n",
       "      <td>NaN</td>\n",
       "      <td>0</td>\n",
       "      <td>0</td>\n",
       "      <td>0</td>\n",
       "      <td>0</td>\n",
       "      <td>0</td>\n",
       "      <td>0</td>\n",
       "      <td>3</td>\n",
       "      <td>...</td>\n",
       "      <td>0</td>\n",
       "      <td>-99.0</td>\n",
       "      <td>-99.0</td>\n",
       "      <td>0</td>\n",
       "      <td>No</td>\n",
       "      <td>No</td>\n",
       "      <td>No</td>\n",
       "      <td>Yes</td>\n",
       "      <td>No</td>\n",
       "      <td>No</td>\n",
       "    </tr>\n",
       "    <tr>\n",
       "      <th>4</th>\n",
       "      <td>2080337</td>\n",
       "      <td>315</td>\n",
       "      <td>NaN</td>\n",
       "      <td>0</td>\n",
       "      <td>0</td>\n",
       "      <td>0</td>\n",
       "      <td>0</td>\n",
       "      <td>0</td>\n",
       "      <td>1</td>\n",
       "      <td>3</td>\n",
       "      <td>...</td>\n",
       "      <td>0</td>\n",
       "      <td>-99.0</td>\n",
       "      <td>-99.0</td>\n",
       "      <td>0</td>\n",
       "      <td>Yes</td>\n",
       "      <td>No</td>\n",
       "      <td>No</td>\n",
       "      <td>No</td>\n",
       "      <td>No</td>\n",
       "      <td>No</td>\n",
       "    </tr>\n",
       "  </tbody>\n",
       "</table>\n",
       "<p>5 rows × 23 columns</p>\n",
       "</div>"
      ],
      "text/plain": [
       "       sku  national_inv  lead_time  in_transit_qty  forecast_3_month  \\\n",
       "0  2079834            23        NaN               0                 0   \n",
       "1  2079835             2        NaN               0                 0   \n",
       "2  2079836             6        NaN               0                 0   \n",
       "3  2079837            87        NaN               0                 0   \n",
       "4  2080337           315        NaN               0                 0   \n",
       "\n",
       "   forecast_6_month  forecast_9_month  sales_1_month  sales_3_month  \\\n",
       "0                 0                 0              0              0   \n",
       "1                 0                 0              0              0   \n",
       "2                 0                 0              0              0   \n",
       "3                 0                 0              0              0   \n",
       "4                 0                 0              0              1   \n",
       "\n",
       "   sales_6_month  ...  pieces_past_due  perf_6_month_avg perf_12_month_avg  \\\n",
       "0              0  ...                0             -99.0             -99.0   \n",
       "1              0  ...                0             -99.0             -99.0   \n",
       "2              0  ...                0             -99.0             -99.0   \n",
       "3              3  ...                0             -99.0             -99.0   \n",
       "4              3  ...                0             -99.0             -99.0   \n",
       "\n",
       "   local_bo_qty  deck_risk  oe_constraint  ppap_risk stop_auto_buy rev_stop  \\\n",
       "0             0        Yes             No         No           Yes       No   \n",
       "1             0        Yes             No         No           Yes       No   \n",
       "2             0        Yes             No         No           Yes       No   \n",
       "3             0         No             No         No           Yes       No   \n",
       "4             0        Yes             No         No            No       No   \n",
       "\n",
       "  went_on_backorder  \n",
       "0                No  \n",
       "1                No  \n",
       "2                No  \n",
       "3                No  \n",
       "4                No  \n",
       "\n",
       "[5 rows x 23 columns]"
      ]
     },
     "execution_count": 5,
     "metadata": {},
     "output_type": "execute_result"
    },
    {
     "data": {
      "text/html": [
       "<div>\n",
       "<style scoped>\n",
       "    .dataframe tbody tr th:only-of-type {\n",
       "        vertical-align: middle;\n",
       "    }\n",
       "\n",
       "    .dataframe tbody tr th {\n",
       "        vertical-align: top;\n",
       "    }\n",
       "\n",
       "    .dataframe thead th {\n",
       "        text-align: right;\n",
       "    }\n",
       "</style>\n",
       "<table border=\"1\" class=\"dataframe\">\n",
       "  <thead>\n",
       "    <tr style=\"text-align: right;\">\n",
       "      <th></th>\n",
       "      <th>sku</th>\n",
       "      <th>national_inv</th>\n",
       "      <th>lead_time</th>\n",
       "      <th>in_transit_qty</th>\n",
       "      <th>forecast_3_month</th>\n",
       "      <th>forecast_6_month</th>\n",
       "      <th>forecast_9_month</th>\n",
       "      <th>sales_1_month</th>\n",
       "      <th>sales_3_month</th>\n",
       "      <th>sales_6_month</th>\n",
       "      <th>...</th>\n",
       "      <th>pieces_past_due</th>\n",
       "      <th>perf_6_month_avg</th>\n",
       "      <th>perf_12_month_avg</th>\n",
       "      <th>local_bo_qty</th>\n",
       "      <th>deck_risk</th>\n",
       "      <th>oe_constraint</th>\n",
       "      <th>ppap_risk</th>\n",
       "      <th>stop_auto_buy</th>\n",
       "      <th>rev_stop</th>\n",
       "      <th>went_on_backorder</th>\n",
       "    </tr>\n",
       "  </thead>\n",
       "  <tbody>\n",
       "    <tr>\n",
       "      <th>0</th>\n",
       "      <td>4987435</td>\n",
       "      <td>39</td>\n",
       "      <td>NaN</td>\n",
       "      <td>0</td>\n",
       "      <td>0</td>\n",
       "      <td>0</td>\n",
       "      <td>0</td>\n",
       "      <td>0</td>\n",
       "      <td>0</td>\n",
       "      <td>0</td>\n",
       "      <td>...</td>\n",
       "      <td>0</td>\n",
       "      <td>-99.0</td>\n",
       "      <td>-99.00</td>\n",
       "      <td>0</td>\n",
       "      <td>Yes</td>\n",
       "      <td>No</td>\n",
       "      <td>No</td>\n",
       "      <td>Yes</td>\n",
       "      <td>No</td>\n",
       "      <td>No</td>\n",
       "    </tr>\n",
       "    <tr>\n",
       "      <th>1</th>\n",
       "      <td>4992835</td>\n",
       "      <td>93</td>\n",
       "      <td>8.0</td>\n",
       "      <td>0</td>\n",
       "      <td>0</td>\n",
       "      <td>0</td>\n",
       "      <td>0</td>\n",
       "      <td>0</td>\n",
       "      <td>0</td>\n",
       "      <td>0</td>\n",
       "      <td>...</td>\n",
       "      <td>0</td>\n",
       "      <td>-99.0</td>\n",
       "      <td>-99.00</td>\n",
       "      <td>0</td>\n",
       "      <td>No</td>\n",
       "      <td>No</td>\n",
       "      <td>No</td>\n",
       "      <td>Yes</td>\n",
       "      <td>No</td>\n",
       "      <td>No</td>\n",
       "    </tr>\n",
       "    <tr>\n",
       "      <th>2</th>\n",
       "      <td>4995578</td>\n",
       "      <td>0</td>\n",
       "      <td>15.0</td>\n",
       "      <td>0</td>\n",
       "      <td>0</td>\n",
       "      <td>0</td>\n",
       "      <td>0</td>\n",
       "      <td>0</td>\n",
       "      <td>0</td>\n",
       "      <td>0</td>\n",
       "      <td>...</td>\n",
       "      <td>0</td>\n",
       "      <td>0.8</td>\n",
       "      <td>0.77</td>\n",
       "      <td>0</td>\n",
       "      <td>No</td>\n",
       "      <td>No</td>\n",
       "      <td>No</td>\n",
       "      <td>Yes</td>\n",
       "      <td>No</td>\n",
       "      <td>No</td>\n",
       "    </tr>\n",
       "    <tr>\n",
       "      <th>3</th>\n",
       "      <td>5003558</td>\n",
       "      <td>4</td>\n",
       "      <td>NaN</td>\n",
       "      <td>0</td>\n",
       "      <td>0</td>\n",
       "      <td>0</td>\n",
       "      <td>0</td>\n",
       "      <td>0</td>\n",
       "      <td>0</td>\n",
       "      <td>1</td>\n",
       "      <td>...</td>\n",
       "      <td>0</td>\n",
       "      <td>-99.0</td>\n",
       "      <td>-99.00</td>\n",
       "      <td>0</td>\n",
       "      <td>Yes</td>\n",
       "      <td>No</td>\n",
       "      <td>No</td>\n",
       "      <td>Yes</td>\n",
       "      <td>No</td>\n",
       "      <td>No</td>\n",
       "    </tr>\n",
       "    <tr>\n",
       "      <th>4</th>\n",
       "      <td>5014185</td>\n",
       "      <td>61</td>\n",
       "      <td>2.0</td>\n",
       "      <td>0</td>\n",
       "      <td>0</td>\n",
       "      <td>0</td>\n",
       "      <td>0</td>\n",
       "      <td>0</td>\n",
       "      <td>0</td>\n",
       "      <td>0</td>\n",
       "      <td>...</td>\n",
       "      <td>0</td>\n",
       "      <td>-99.0</td>\n",
       "      <td>-99.00</td>\n",
       "      <td>0</td>\n",
       "      <td>No</td>\n",
       "      <td>No</td>\n",
       "      <td>No</td>\n",
       "      <td>Yes</td>\n",
       "      <td>No</td>\n",
       "      <td>No</td>\n",
       "    </tr>\n",
       "  </tbody>\n",
       "</table>\n",
       "<p>5 rows × 23 columns</p>\n",
       "</div>"
      ],
      "text/plain": [
       "       sku  national_inv  lead_time  in_transit_qty  forecast_3_month  \\\n",
       "0  4987435            39        NaN               0                 0   \n",
       "1  4992835            93        8.0               0                 0   \n",
       "2  4995578             0       15.0               0                 0   \n",
       "3  5003558             4        NaN               0                 0   \n",
       "4  5014185            61        2.0               0                 0   \n",
       "\n",
       "   forecast_6_month  forecast_9_month  sales_1_month  sales_3_month  \\\n",
       "0                 0                 0              0              0   \n",
       "1                 0                 0              0              0   \n",
       "2                 0                 0              0              0   \n",
       "3                 0                 0              0              0   \n",
       "4                 0                 0              0              0   \n",
       "\n",
       "   sales_6_month  ...  pieces_past_due  perf_6_month_avg perf_12_month_avg  \\\n",
       "0              0  ...                0             -99.0            -99.00   \n",
       "1              0  ...                0             -99.0            -99.00   \n",
       "2              0  ...                0               0.8              0.77   \n",
       "3              1  ...                0             -99.0            -99.00   \n",
       "4              0  ...                0             -99.0            -99.00   \n",
       "\n",
       "   local_bo_qty  deck_risk  oe_constraint  ppap_risk stop_auto_buy rev_stop  \\\n",
       "0             0        Yes             No         No           Yes       No   \n",
       "1             0         No             No         No           Yes       No   \n",
       "2             0         No             No         No           Yes       No   \n",
       "3             0        Yes             No         No           Yes       No   \n",
       "4             0         No             No         No           Yes       No   \n",
       "\n",
       "  went_on_backorder  \n",
       "0                No  \n",
       "1                No  \n",
       "2                No  \n",
       "3                No  \n",
       "4                No  \n",
       "\n",
       "[5 rows x 23 columns]"
      ]
     },
     "execution_count": 5,
     "metadata": {},
     "output_type": "execute_result"
    }
   ],
   "source": [
    "df_train.head()\n",
    "df_test.head()\n"
   ]
  },
  {
   "cell_type": "code",
   "execution_count": 6,
   "metadata": {},
   "outputs": [
    {
     "name": "stdout",
     "output_type": "stream",
     "text": [
      "Train Data: (1693050, 23)\n",
      "Test Data: (241817, 23)\n"
     ]
    }
   ],
   "source": [
    "print('Train Data:', df_train.shape)\n",
    "print('Test Data:', df_test.shape)"
   ]
  },
  {
   "cell_type": "code",
   "execution_count": 7,
   "metadata": {
    "colab": {
     "base_uri": "https://localhost:8080/"
    },
    "id": "a4pcwCYJ8YPk",
    "outputId": "085f487e-c407-45ca-f16c-7e52e696080d"
   },
   "outputs": [
    {
     "data": {
      "text/plain": [
       "sku                  1693050\n",
       "national_inv         1693050\n",
       "lead_time            1591716\n",
       "in_transit_qty       1693050\n",
       "forecast_3_month     1693050\n",
       "forecast_6_month     1693050\n",
       "forecast_9_month     1693050\n",
       "sales_1_month        1693050\n",
       "sales_3_month        1693050\n",
       "sales_6_month        1693050\n",
       "sales_9_month        1693050\n",
       "min_bank             1693050\n",
       "potential_issue      1693050\n",
       "pieces_past_due      1693050\n",
       "perf_6_month_avg     1693050\n",
       "perf_12_month_avg    1693050\n",
       "local_bo_qty         1693050\n",
       "deck_risk            1693050\n",
       "oe_constraint        1693050\n",
       "ppap_risk            1693050\n",
       "stop_auto_buy        1693050\n",
       "rev_stop             1693050\n",
       "went_on_backorder    1693050\n",
       "dtype: int64"
      ]
     },
     "execution_count": 7,
     "metadata": {},
     "output_type": "execute_result"
    },
    {
     "data": {
      "text/plain": [
       "sku                  241817\n",
       "national_inv         241817\n",
       "lead_time            227490\n",
       "in_transit_qty       241817\n",
       "forecast_3_month     241817\n",
       "forecast_6_month     241817\n",
       "forecast_9_month     241817\n",
       "sales_1_month        241817\n",
       "sales_3_month        241817\n",
       "sales_6_month        241817\n",
       "sales_9_month        241817\n",
       "min_bank             241817\n",
       "potential_issue      241817\n",
       "pieces_past_due      241817\n",
       "perf_6_month_avg     241817\n",
       "perf_12_month_avg    241817\n",
       "local_bo_qty         241817\n",
       "deck_risk            241817\n",
       "oe_constraint        241817\n",
       "ppap_risk            241817\n",
       "stop_auto_buy        241817\n",
       "rev_stop             241817\n",
       "went_on_backorder    241817\n",
       "dtype: int64"
      ]
     },
     "execution_count": 7,
     "metadata": {},
     "output_type": "execute_result"
    }
   ],
   "source": [
    "df_train.count()\n",
    "df_test.count()"
   ]
  },
  {
   "cell_type": "code",
   "execution_count": 8,
   "metadata": {
    "colab": {
     "base_uri": "https://localhost:8080/"
    },
    "id": "nXcrGxwh8c1z",
    "outputId": "8a173e35-2600-405e-d2fb-bb2ee97f4853"
   },
   "outputs": [
    {
     "data": {
      "text/plain": [
       "sku                       0\n",
       "national_inv              0\n",
       "lead_time            101334\n",
       "in_transit_qty            0\n",
       "forecast_3_month          0\n",
       "forecast_6_month          0\n",
       "forecast_9_month          0\n",
       "sales_1_month             0\n",
       "sales_3_month             0\n",
       "sales_6_month             0\n",
       "sales_9_month             0\n",
       "min_bank                  0\n",
       "potential_issue           0\n",
       "pieces_past_due           0\n",
       "perf_6_month_avg          0\n",
       "perf_12_month_avg         0\n",
       "local_bo_qty              0\n",
       "deck_risk                 0\n",
       "oe_constraint             0\n",
       "ppap_risk                 0\n",
       "stop_auto_buy             0\n",
       "rev_stop                  0\n",
       "went_on_backorder         0\n",
       "dtype: int64"
      ]
     },
     "execution_count": 8,
     "metadata": {},
     "output_type": "execute_result"
    },
    {
     "data": {
      "text/plain": [
       "sku                      0\n",
       "national_inv             0\n",
       "lead_time            14327\n",
       "in_transit_qty           0\n",
       "forecast_3_month         0\n",
       "forecast_6_month         0\n",
       "forecast_9_month         0\n",
       "sales_1_month            0\n",
       "sales_3_month            0\n",
       "sales_6_month            0\n",
       "sales_9_month            0\n",
       "min_bank                 0\n",
       "potential_issue          0\n",
       "pieces_past_due          0\n",
       "perf_6_month_avg         0\n",
       "perf_12_month_avg        0\n",
       "local_bo_qty             0\n",
       "deck_risk                0\n",
       "oe_constraint            0\n",
       "ppap_risk                0\n",
       "stop_auto_buy            0\n",
       "rev_stop                 0\n",
       "went_on_backorder        0\n",
       "dtype: int64"
      ]
     },
     "execution_count": 8,
     "metadata": {},
     "output_type": "execute_result"
    }
   ],
   "source": [
    "df_train.isnull().sum()\n",
    "df_test.isnull().sum()"
   ]
  },
  {
   "cell_type": "code",
   "execution_count": 9,
   "metadata": {},
   "outputs": [],
   "source": [
    "df_train = df_train.dropna()\n",
    "df_test = df_test.dropna()"
   ]
  },
  {
   "cell_type": "code",
   "execution_count": 10,
   "metadata": {
    "scrolled": true
   },
   "outputs": [
    {
     "data": {
      "text/html": [
       "<div>\n",
       "<style scoped>\n",
       "    .dataframe tbody tr th:only-of-type {\n",
       "        vertical-align: middle;\n",
       "    }\n",
       "\n",
       "    .dataframe tbody tr th {\n",
       "        vertical-align: top;\n",
       "    }\n",
       "\n",
       "    .dataframe thead th {\n",
       "        text-align: right;\n",
       "    }\n",
       "</style>\n",
       "<table border=\"1\" class=\"dataframe\">\n",
       "  <thead>\n",
       "    <tr style=\"text-align: right;\">\n",
       "      <th></th>\n",
       "      <th>sku</th>\n",
       "      <th>national_inv</th>\n",
       "      <th>lead_time</th>\n",
       "      <th>in_transit_qty</th>\n",
       "      <th>forecast_3_month</th>\n",
       "      <th>forecast_6_month</th>\n",
       "      <th>forecast_9_month</th>\n",
       "      <th>sales_1_month</th>\n",
       "      <th>sales_3_month</th>\n",
       "      <th>sales_6_month</th>\n",
       "      <th>sales_9_month</th>\n",
       "      <th>min_bank</th>\n",
       "      <th>pieces_past_due</th>\n",
       "      <th>perf_6_month_avg</th>\n",
       "      <th>perf_12_month_avg</th>\n",
       "      <th>local_bo_qty</th>\n",
       "    </tr>\n",
       "  </thead>\n",
       "  <tbody>\n",
       "    <tr>\n",
       "      <th>count</th>\n",
       "      <td>1.591716e+06</td>\n",
       "      <td>1.591716e+06</td>\n",
       "      <td>1.591716e+06</td>\n",
       "      <td>1.591716e+06</td>\n",
       "      <td>1.591716e+06</td>\n",
       "      <td>1.591716e+06</td>\n",
       "      <td>1.591716e+06</td>\n",
       "      <td>1.591716e+06</td>\n",
       "      <td>1.591716e+06</td>\n",
       "      <td>1.591716e+06</td>\n",
       "      <td>1.591716e+06</td>\n",
       "      <td>1.591716e+06</td>\n",
       "      <td>1.591716e+06</td>\n",
       "      <td>1.591716e+06</td>\n",
       "      <td>1.591716e+06</td>\n",
       "      <td>1.591716e+06</td>\n",
       "    </tr>\n",
       "    <tr>\n",
       "      <th>mean</th>\n",
       "      <td>3.442493e+06</td>\n",
       "      <td>4.884274e+02</td>\n",
       "      <td>7.908687e+00</td>\n",
       "      <td>4.151849e+01</td>\n",
       "      <td>1.925025e+02</td>\n",
       "      <td>3.633595e+02</td>\n",
       "      <td>5.314879e+02</td>\n",
       "      <td>5.442243e+01</td>\n",
       "      <td>1.762655e+02</td>\n",
       "      <td>3.493637e+02</td>\n",
       "      <td>5.283423e+02</td>\n",
       "      <td>5.277357e+01</td>\n",
       "      <td>1.843402e+00</td>\n",
       "      <td>-1.027673e+00</td>\n",
       "      <td>-5.448473e-01</td>\n",
       "      <td>6.783358e-01</td>\n",
       "    </tr>\n",
       "    <tr>\n",
       "      <th>std</th>\n",
       "      <td>7.752804e+05</td>\n",
       "      <td>3.007990e+04</td>\n",
       "      <td>7.040469e+00</td>\n",
       "      <td>9.987333e+02</td>\n",
       "      <td>5.629011e+03</td>\n",
       "      <td>1.000528e+04</td>\n",
       "      <td>1.425558e+04</td>\n",
       "      <td>1.556086e+03</td>\n",
       "      <td>4.765958e+03</td>\n",
       "      <td>9.219730e+03</td>\n",
       "      <td>1.410912e+04</td>\n",
       "      <td>1.139273e+03</td>\n",
       "      <td>2.696858e+02</td>\n",
       "      <td>1.328367e+01</td>\n",
       "      <td>1.140155e+01</td>\n",
       "      <td>4.341808e+01</td>\n",
       "    </tr>\n",
       "    <tr>\n",
       "      <th>min</th>\n",
       "      <td>2.063622e+06</td>\n",
       "      <td>-3.342300e+04</td>\n",
       "      <td>0.000000e+00</td>\n",
       "      <td>0.000000e+00</td>\n",
       "      <td>0.000000e+00</td>\n",
       "      <td>0.000000e+00</td>\n",
       "      <td>0.000000e+00</td>\n",
       "      <td>0.000000e+00</td>\n",
       "      <td>0.000000e+00</td>\n",
       "      <td>0.000000e+00</td>\n",
       "      <td>0.000000e+00</td>\n",
       "      <td>0.000000e+00</td>\n",
       "      <td>0.000000e+00</td>\n",
       "      <td>-9.900000e+01</td>\n",
       "      <td>-9.900000e+01</td>\n",
       "      <td>0.000000e+00</td>\n",
       "    </tr>\n",
       "    <tr>\n",
       "      <th>25%</th>\n",
       "      <td>2.983457e+06</td>\n",
       "      <td>4.000000e+00</td>\n",
       "      <td>4.000000e+00</td>\n",
       "      <td>0.000000e+00</td>\n",
       "      <td>0.000000e+00</td>\n",
       "      <td>0.000000e+00</td>\n",
       "      <td>0.000000e+00</td>\n",
       "      <td>0.000000e+00</td>\n",
       "      <td>0.000000e+00</td>\n",
       "      <td>0.000000e+00</td>\n",
       "      <td>0.000000e+00</td>\n",
       "      <td>0.000000e+00</td>\n",
       "      <td>0.000000e+00</td>\n",
       "      <td>6.800000e-01</td>\n",
       "      <td>6.800000e-01</td>\n",
       "      <td>0.000000e+00</td>\n",
       "    </tr>\n",
       "    <tr>\n",
       "      <th>50%</th>\n",
       "      <td>3.406746e+06</td>\n",
       "      <td>1.400000e+01</td>\n",
       "      <td>8.000000e+00</td>\n",
       "      <td>0.000000e+00</td>\n",
       "      <td>0.000000e+00</td>\n",
       "      <td>0.000000e+00</td>\n",
       "      <td>0.000000e+00</td>\n",
       "      <td>0.000000e+00</td>\n",
       "      <td>1.000000e+00</td>\n",
       "      <td>3.000000e+00</td>\n",
       "      <td>4.000000e+00</td>\n",
       "      <td>0.000000e+00</td>\n",
       "      <td>0.000000e+00</td>\n",
       "      <td>8.300000e-01</td>\n",
       "      <td>8.200000e-01</td>\n",
       "      <td>0.000000e+00</td>\n",
       "    </tr>\n",
       "    <tr>\n",
       "      <th>75%</th>\n",
       "      <td>3.830162e+06</td>\n",
       "      <td>7.900000e+01</td>\n",
       "      <td>9.000000e+00</td>\n",
       "      <td>0.000000e+00</td>\n",
       "      <td>5.000000e+00</td>\n",
       "      <td>1.600000e+01</td>\n",
       "      <td>2.500000e+01</td>\n",
       "      <td>5.000000e+00</td>\n",
       "      <td>1.600000e+01</td>\n",
       "      <td>3.300000e+01</td>\n",
       "      <td>5.000000e+01</td>\n",
       "      <td>3.000000e+00</td>\n",
       "      <td>0.000000e+00</td>\n",
       "      <td>9.700000e-01</td>\n",
       "      <td>9.600000e-01</td>\n",
       "      <td>0.000000e+00</td>\n",
       "    </tr>\n",
       "    <tr>\n",
       "      <th>max</th>\n",
       "      <td>4.986465e+06</td>\n",
       "      <td>1.228510e+07</td>\n",
       "      <td>5.200000e+01</td>\n",
       "      <td>4.894080e+05</td>\n",
       "      <td>1.511160e+06</td>\n",
       "      <td>2.218752e+06</td>\n",
       "      <td>3.229292e+06</td>\n",
       "      <td>7.417620e+05</td>\n",
       "      <td>1.105478e+06</td>\n",
       "      <td>2.133557e+06</td>\n",
       "      <td>3.205172e+06</td>\n",
       "      <td>2.659680e+05</td>\n",
       "      <td>1.623320e+05</td>\n",
       "      <td>1.000000e+00</td>\n",
       "      <td>1.000000e+00</td>\n",
       "      <td>1.500000e+04</td>\n",
       "    </tr>\n",
       "  </tbody>\n",
       "</table>\n",
       "</div>"
      ],
      "text/plain": [
       "                sku  national_inv     lead_time  in_transit_qty  \\\n",
       "count  1.591716e+06  1.591716e+06  1.591716e+06    1.591716e+06   \n",
       "mean   3.442493e+06  4.884274e+02  7.908687e+00    4.151849e+01   \n",
       "std    7.752804e+05  3.007990e+04  7.040469e+00    9.987333e+02   \n",
       "min    2.063622e+06 -3.342300e+04  0.000000e+00    0.000000e+00   \n",
       "25%    2.983457e+06  4.000000e+00  4.000000e+00    0.000000e+00   \n",
       "50%    3.406746e+06  1.400000e+01  8.000000e+00    0.000000e+00   \n",
       "75%    3.830162e+06  7.900000e+01  9.000000e+00    0.000000e+00   \n",
       "max    4.986465e+06  1.228510e+07  5.200000e+01    4.894080e+05   \n",
       "\n",
       "       forecast_3_month  forecast_6_month  forecast_9_month  sales_1_month  \\\n",
       "count      1.591716e+06      1.591716e+06      1.591716e+06   1.591716e+06   \n",
       "mean       1.925025e+02      3.633595e+02      5.314879e+02   5.442243e+01   \n",
       "std        5.629011e+03      1.000528e+04      1.425558e+04   1.556086e+03   \n",
       "min        0.000000e+00      0.000000e+00      0.000000e+00   0.000000e+00   \n",
       "25%        0.000000e+00      0.000000e+00      0.000000e+00   0.000000e+00   \n",
       "50%        0.000000e+00      0.000000e+00      0.000000e+00   0.000000e+00   \n",
       "75%        5.000000e+00      1.600000e+01      2.500000e+01   5.000000e+00   \n",
       "max        1.511160e+06      2.218752e+06      3.229292e+06   7.417620e+05   \n",
       "\n",
       "       sales_3_month  sales_6_month  sales_9_month      min_bank  \\\n",
       "count   1.591716e+06   1.591716e+06   1.591716e+06  1.591716e+06   \n",
       "mean    1.762655e+02   3.493637e+02   5.283423e+02  5.277357e+01   \n",
       "std     4.765958e+03   9.219730e+03   1.410912e+04  1.139273e+03   \n",
       "min     0.000000e+00   0.000000e+00   0.000000e+00  0.000000e+00   \n",
       "25%     0.000000e+00   0.000000e+00   0.000000e+00  0.000000e+00   \n",
       "50%     1.000000e+00   3.000000e+00   4.000000e+00  0.000000e+00   \n",
       "75%     1.600000e+01   3.300000e+01   5.000000e+01  3.000000e+00   \n",
       "max     1.105478e+06   2.133557e+06   3.205172e+06  2.659680e+05   \n",
       "\n",
       "       pieces_past_due  perf_6_month_avg  perf_12_month_avg  local_bo_qty  \n",
       "count     1.591716e+06      1.591716e+06       1.591716e+06  1.591716e+06  \n",
       "mean      1.843402e+00     -1.027673e+00      -5.448473e-01  6.783358e-01  \n",
       "std       2.696858e+02      1.328367e+01       1.140155e+01  4.341808e+01  \n",
       "min       0.000000e+00     -9.900000e+01      -9.900000e+01  0.000000e+00  \n",
       "25%       0.000000e+00      6.800000e-01       6.800000e-01  0.000000e+00  \n",
       "50%       0.000000e+00      8.300000e-01       8.200000e-01  0.000000e+00  \n",
       "75%       0.000000e+00      9.700000e-01       9.600000e-01  0.000000e+00  \n",
       "max       1.623320e+05      1.000000e+00       1.000000e+00  1.500000e+04  "
      ]
     },
     "execution_count": 10,
     "metadata": {},
     "output_type": "execute_result"
    },
    {
     "data": {
      "text/html": [
       "<div>\n",
       "<style scoped>\n",
       "    .dataframe tbody tr th:only-of-type {\n",
       "        vertical-align: middle;\n",
       "    }\n",
       "\n",
       "    .dataframe tbody tr th {\n",
       "        vertical-align: top;\n",
       "    }\n",
       "\n",
       "    .dataframe thead th {\n",
       "        text-align: right;\n",
       "    }\n",
       "</style>\n",
       "<table border=\"1\" class=\"dataframe\">\n",
       "  <thead>\n",
       "    <tr style=\"text-align: right;\">\n",
       "      <th></th>\n",
       "      <th>sku</th>\n",
       "      <th>national_inv</th>\n",
       "      <th>lead_time</th>\n",
       "      <th>in_transit_qty</th>\n",
       "      <th>forecast_3_month</th>\n",
       "      <th>forecast_6_month</th>\n",
       "      <th>forecast_9_month</th>\n",
       "      <th>sales_1_month</th>\n",
       "      <th>sales_3_month</th>\n",
       "      <th>sales_6_month</th>\n",
       "      <th>sales_9_month</th>\n",
       "      <th>min_bank</th>\n",
       "      <th>pieces_past_due</th>\n",
       "      <th>perf_6_month_avg</th>\n",
       "      <th>perf_12_month_avg</th>\n",
       "      <th>local_bo_qty</th>\n",
       "    </tr>\n",
       "  </thead>\n",
       "  <tbody>\n",
       "    <tr>\n",
       "      <th>count</th>\n",
       "      <td>2.274900e+05</td>\n",
       "      <td>2.274900e+05</td>\n",
       "      <td>227490.000000</td>\n",
       "      <td>227490.000000</td>\n",
       "      <td>2.274900e+05</td>\n",
       "      <td>2.274900e+05</td>\n",
       "      <td>2.274900e+05</td>\n",
       "      <td>227490.000000</td>\n",
       "      <td>2.274900e+05</td>\n",
       "      <td>2.274900e+05</td>\n",
       "      <td>2.274900e+05</td>\n",
       "      <td>227490.000000</td>\n",
       "      <td>227490.000000</td>\n",
       "      <td>227490.000000</td>\n",
       "      <td>227490.000000</td>\n",
       "      <td>227490.000000</td>\n",
       "    </tr>\n",
       "    <tr>\n",
       "      <th>mean</th>\n",
       "      <td>5.107444e+06</td>\n",
       "      <td>4.658318e+02</td>\n",
       "      <td>7.919060</td>\n",
       "      <td>44.688540</td>\n",
       "      <td>1.811476e+02</td>\n",
       "      <td>3.474833e+02</td>\n",
       "      <td>5.096525e+02</td>\n",
       "      <td>53.439461</td>\n",
       "      <td>1.719834e+02</td>\n",
       "      <td>3.452968e+02</td>\n",
       "      <td>5.126608e+02</td>\n",
       "      <td>51.145237</td>\n",
       "      <td>1.373968</td>\n",
       "      <td>-1.092962</td>\n",
       "      <td>-0.630782</td>\n",
       "      <td>0.944055</td>\n",
       "    </tr>\n",
       "    <tr>\n",
       "      <th>std</th>\n",
       "      <td>6.981507e+04</td>\n",
       "      <td>2.940922e+04</td>\n",
       "      <td>7.038657</td>\n",
       "      <td>1245.993319</td>\n",
       "      <td>5.032872e+03</td>\n",
       "      <td>9.314372e+03</td>\n",
       "      <td>1.355179e+04</td>\n",
       "      <td>1302.758383</td>\n",
       "      <td>4.608642e+03</td>\n",
       "      <td>8.892953e+03</td>\n",
       "      <td>1.333948e+04</td>\n",
       "      <td>1096.757867</td>\n",
       "      <td>90.102728</td>\n",
       "      <td>13.504676</td>\n",
       "      <td>11.768803</td>\n",
       "      <td>68.094830</td>\n",
       "    </tr>\n",
       "    <tr>\n",
       "      <th>min</th>\n",
       "      <td>4.986466e+06</td>\n",
       "      <td>-3.558300e+04</td>\n",
       "      <td>0.000000</td>\n",
       "      <td>0.000000</td>\n",
       "      <td>0.000000e+00</td>\n",
       "      <td>0.000000e+00</td>\n",
       "      <td>0.000000e+00</td>\n",
       "      <td>0.000000</td>\n",
       "      <td>0.000000e+00</td>\n",
       "      <td>0.000000e+00</td>\n",
       "      <td>0.000000e+00</td>\n",
       "      <td>0.000000</td>\n",
       "      <td>0.000000</td>\n",
       "      <td>-99.000000</td>\n",
       "      <td>-99.000000</td>\n",
       "      <td>0.000000</td>\n",
       "    </tr>\n",
       "    <tr>\n",
       "      <th>25%</th>\n",
       "      <td>5.046987e+06</td>\n",
       "      <td>4.000000e+00</td>\n",
       "      <td>4.000000</td>\n",
       "      <td>0.000000</td>\n",
       "      <td>0.000000e+00</td>\n",
       "      <td>0.000000e+00</td>\n",
       "      <td>0.000000e+00</td>\n",
       "      <td>0.000000</td>\n",
       "      <td>0.000000e+00</td>\n",
       "      <td>0.000000e+00</td>\n",
       "      <td>0.000000e+00</td>\n",
       "      <td>0.000000</td>\n",
       "      <td>0.000000</td>\n",
       "      <td>0.650000</td>\n",
       "      <td>0.670000</td>\n",
       "      <td>0.000000</td>\n",
       "    </tr>\n",
       "    <tr>\n",
       "      <th>50%</th>\n",
       "      <td>5.107474e+06</td>\n",
       "      <td>1.400000e+01</td>\n",
       "      <td>8.000000</td>\n",
       "      <td>0.000000</td>\n",
       "      <td>0.000000e+00</td>\n",
       "      <td>0.000000e+00</td>\n",
       "      <td>0.000000e+00</td>\n",
       "      <td>0.000000</td>\n",
       "      <td>1.000000e+00</td>\n",
       "      <td>3.000000e+00</td>\n",
       "      <td>4.000000e+00</td>\n",
       "      <td>0.000000</td>\n",
       "      <td>0.000000</td>\n",
       "      <td>0.820000</td>\n",
       "      <td>0.830000</td>\n",
       "      <td>0.000000</td>\n",
       "    </tr>\n",
       "    <tr>\n",
       "      <th>75%</th>\n",
       "      <td>5.167917e+06</td>\n",
       "      <td>7.900000e+01</td>\n",
       "      <td>9.000000</td>\n",
       "      <td>0.000000</td>\n",
       "      <td>5.000000e+00</td>\n",
       "      <td>1.500000e+01</td>\n",
       "      <td>2.500000e+01</td>\n",
       "      <td>5.000000</td>\n",
       "      <td>1.600000e+01</td>\n",
       "      <td>3.300000e+01</td>\n",
       "      <td>5.100000e+01</td>\n",
       "      <td>3.000000</td>\n",
       "      <td>0.000000</td>\n",
       "      <td>0.970000</td>\n",
       "      <td>0.960000</td>\n",
       "      <td>0.000000</td>\n",
       "    </tr>\n",
       "    <tr>\n",
       "      <th>max</th>\n",
       "      <td>5.228282e+06</td>\n",
       "      <td>1.208618e+07</td>\n",
       "      <td>52.000000</td>\n",
       "      <td>396192.000000</td>\n",
       "      <td>1.037188e+06</td>\n",
       "      <td>2.029784e+06</td>\n",
       "      <td>3.110528e+06</td>\n",
       "      <td>319709.000000</td>\n",
       "      <td>1.071963e+06</td>\n",
       "      <td>2.115141e+06</td>\n",
       "      <td>3.148554e+06</td>\n",
       "      <td>254299.000000</td>\n",
       "      <td>30584.000000</td>\n",
       "      <td>1.000000</td>\n",
       "      <td>1.000000</td>\n",
       "      <td>16804.000000</td>\n",
       "    </tr>\n",
       "  </tbody>\n",
       "</table>\n",
       "</div>"
      ],
      "text/plain": [
       "                sku  national_inv      lead_time  in_transit_qty  \\\n",
       "count  2.274900e+05  2.274900e+05  227490.000000   227490.000000   \n",
       "mean   5.107444e+06  4.658318e+02       7.919060       44.688540   \n",
       "std    6.981507e+04  2.940922e+04       7.038657     1245.993319   \n",
       "min    4.986466e+06 -3.558300e+04       0.000000        0.000000   \n",
       "25%    5.046987e+06  4.000000e+00       4.000000        0.000000   \n",
       "50%    5.107474e+06  1.400000e+01       8.000000        0.000000   \n",
       "75%    5.167917e+06  7.900000e+01       9.000000        0.000000   \n",
       "max    5.228282e+06  1.208618e+07      52.000000   396192.000000   \n",
       "\n",
       "       forecast_3_month  forecast_6_month  forecast_9_month  sales_1_month  \\\n",
       "count      2.274900e+05      2.274900e+05      2.274900e+05  227490.000000   \n",
       "mean       1.811476e+02      3.474833e+02      5.096525e+02      53.439461   \n",
       "std        5.032872e+03      9.314372e+03      1.355179e+04    1302.758383   \n",
       "min        0.000000e+00      0.000000e+00      0.000000e+00       0.000000   \n",
       "25%        0.000000e+00      0.000000e+00      0.000000e+00       0.000000   \n",
       "50%        0.000000e+00      0.000000e+00      0.000000e+00       0.000000   \n",
       "75%        5.000000e+00      1.500000e+01      2.500000e+01       5.000000   \n",
       "max        1.037188e+06      2.029784e+06      3.110528e+06  319709.000000   \n",
       "\n",
       "       sales_3_month  sales_6_month  sales_9_month       min_bank  \\\n",
       "count   2.274900e+05   2.274900e+05   2.274900e+05  227490.000000   \n",
       "mean    1.719834e+02   3.452968e+02   5.126608e+02      51.145237   \n",
       "std     4.608642e+03   8.892953e+03   1.333948e+04    1096.757867   \n",
       "min     0.000000e+00   0.000000e+00   0.000000e+00       0.000000   \n",
       "25%     0.000000e+00   0.000000e+00   0.000000e+00       0.000000   \n",
       "50%     1.000000e+00   3.000000e+00   4.000000e+00       0.000000   \n",
       "75%     1.600000e+01   3.300000e+01   5.100000e+01       3.000000   \n",
       "max     1.071963e+06   2.115141e+06   3.148554e+06  254299.000000   \n",
       "\n",
       "       pieces_past_due  perf_6_month_avg  perf_12_month_avg   local_bo_qty  \n",
       "count    227490.000000     227490.000000      227490.000000  227490.000000  \n",
       "mean          1.373968         -1.092962          -0.630782       0.944055  \n",
       "std          90.102728         13.504676          11.768803      68.094830  \n",
       "min           0.000000        -99.000000         -99.000000       0.000000  \n",
       "25%           0.000000          0.650000           0.670000       0.000000  \n",
       "50%           0.000000          0.820000           0.830000       0.000000  \n",
       "75%           0.000000          0.970000           0.960000       0.000000  \n",
       "max       30584.000000          1.000000           1.000000   16804.000000  "
      ]
     },
     "execution_count": 10,
     "metadata": {},
     "output_type": "execute_result"
    }
   ],
   "source": [
    "df_train.describe()\n",
    "df_test.describe()"
   ]
  },
  {
   "cell_type": "code",
   "execution_count": 11,
   "metadata": {
    "colab": {
     "base_uri": "https://localhost:8080/"
    },
    "id": "dIPmOq2c8lVa",
    "outputId": "f7d82f90-9d5c-46db-ee1b-66e5c7700157"
   },
   "outputs": [
    {
     "data": {
      "text/plain": [
       "array([12.,  2., 52.,  8.,  9.,  4., 16., 15., 13.,  6.,  0., 14., 24.,\n",
       "        5.,  3., 10., 17., 11., 20.,  7., 30., 40., 35., 22., 18., 21.,\n",
       "       26., 28., 19., 23.,  1., 25., 42.])"
      ]
     },
     "execution_count": 11,
     "metadata": {},
     "output_type": "execute_result"
    }
   ],
   "source": [
    "df_train.lead_time.unique()"
   ]
  },
  {
   "cell_type": "code",
   "execution_count": 13,
   "metadata": {},
   "outputs": [
    {
     "data": {
      "text/html": [
       "<div>\n",
       "<style scoped>\n",
       "    .dataframe tbody tr th:only-of-type {\n",
       "        vertical-align: middle;\n",
       "    }\n",
       "\n",
       "    .dataframe tbody tr th {\n",
       "        vertical-align: top;\n",
       "    }\n",
       "\n",
       "    .dataframe thead th {\n",
       "        text-align: right;\n",
       "    }\n",
       "</style>\n",
       "<table border=\"1\" class=\"dataframe\">\n",
       "  <thead>\n",
       "    <tr style=\"text-align: right;\">\n",
       "      <th></th>\n",
       "      <th>potential_issue</th>\n",
       "      <th>deck_risk</th>\n",
       "      <th>oe_constraint</th>\n",
       "      <th>ppap_risk</th>\n",
       "      <th>stop_auto_buy</th>\n",
       "      <th>rev_stop</th>\n",
       "      <th>went_on_backorder</th>\n",
       "    </tr>\n",
       "  </thead>\n",
       "  <tbody>\n",
       "    <tr>\n",
       "      <th>14</th>\n",
       "      <td>No</td>\n",
       "      <td>No</td>\n",
       "      <td>No</td>\n",
       "      <td>Yes</td>\n",
       "      <td>Yes</td>\n",
       "      <td>No</td>\n",
       "      <td>No</td>\n",
       "    </tr>\n",
       "    <tr>\n",
       "      <th>18</th>\n",
       "      <td>No</td>\n",
       "      <td>No</td>\n",
       "      <td>No</td>\n",
       "      <td>No</td>\n",
       "      <td>Yes</td>\n",
       "      <td>No</td>\n",
       "      <td>No</td>\n",
       "    </tr>\n",
       "    <tr>\n",
       "      <th>19</th>\n",
       "      <td>No</td>\n",
       "      <td>Yes</td>\n",
       "      <td>No</td>\n",
       "      <td>No</td>\n",
       "      <td>No</td>\n",
       "      <td>No</td>\n",
       "      <td>No</td>\n",
       "    </tr>\n",
       "    <tr>\n",
       "      <th>24</th>\n",
       "      <td>No</td>\n",
       "      <td>Yes</td>\n",
       "      <td>No</td>\n",
       "      <td>No</td>\n",
       "      <td>Yes</td>\n",
       "      <td>No</td>\n",
       "      <td>No</td>\n",
       "    </tr>\n",
       "    <tr>\n",
       "      <th>26</th>\n",
       "      <td>No</td>\n",
       "      <td>No</td>\n",
       "      <td>No</td>\n",
       "      <td>No</td>\n",
       "      <td>Yes</td>\n",
       "      <td>No</td>\n",
       "      <td>No</td>\n",
       "    </tr>\n",
       "  </tbody>\n",
       "</table>\n",
       "</div>"
      ],
      "text/plain": [
       "   potential_issue deck_risk oe_constraint ppap_risk stop_auto_buy rev_stop  \\\n",
       "14              No        No            No       Yes           Yes       No   \n",
       "18              No        No            No        No           Yes       No   \n",
       "19              No       Yes            No        No            No       No   \n",
       "24              No       Yes            No        No           Yes       No   \n",
       "26              No        No            No        No           Yes       No   \n",
       "\n",
       "   went_on_backorder  \n",
       "14                No  \n",
       "18                No  \n",
       "19                No  \n",
       "24                No  \n",
       "26                No  "
      ]
     },
     "execution_count": 13,
     "metadata": {},
     "output_type": "execute_result"
    }
   ],
   "source": [
    "ob = df_train.dtypes[df_train.dtypes=='object'].index\n",
    "df_train[ob].head()"
   ]
  },
  {
   "cell_type": "code",
   "execution_count": 14,
   "metadata": {
    "id": "AHFdiGzq83vU"
   },
   "outputs": [],
   "source": [
    "#hot encoding\n",
    "from sklearn.preprocessing import LabelEncoder\n",
    "le = LabelEncoder()\n",
    "for col in ob:\n",
    "    df_train[col]= le.fit_transform(df_train[col])\n",
    "# No = 0 , Yes = 1"
   ]
  },
  {
   "cell_type": "code",
   "execution_count": 15,
   "metadata": {
    "colab": {
     "base_uri": "https://localhost:8080/",
     "height": 162
    },
    "id": "VeCCaSoZ86lq",
    "outputId": "da3b8b15-8a99-4ec1-f98d-c4dd993273d8"
   },
   "outputs": [
    {
     "data": {
      "text/html": [
       "<div>\n",
       "<style scoped>\n",
       "    .dataframe tbody tr th:only-of-type {\n",
       "        vertical-align: middle;\n",
       "    }\n",
       "\n",
       "    .dataframe tbody tr th {\n",
       "        vertical-align: top;\n",
       "    }\n",
       "\n",
       "    .dataframe thead th {\n",
       "        text-align: right;\n",
       "    }\n",
       "</style>\n",
       "<table border=\"1\" class=\"dataframe\">\n",
       "  <thead>\n",
       "    <tr style=\"text-align: right;\">\n",
       "      <th></th>\n",
       "      <th>sku</th>\n",
       "      <th>national_inv</th>\n",
       "      <th>lead_time</th>\n",
       "      <th>in_transit_qty</th>\n",
       "      <th>forecast_3_month</th>\n",
       "      <th>forecast_6_month</th>\n",
       "      <th>forecast_9_month</th>\n",
       "      <th>sales_1_month</th>\n",
       "      <th>sales_3_month</th>\n",
       "      <th>sales_6_month</th>\n",
       "      <th>...</th>\n",
       "      <th>pieces_past_due</th>\n",
       "      <th>perf_6_month_avg</th>\n",
       "      <th>perf_12_month_avg</th>\n",
       "      <th>local_bo_qty</th>\n",
       "      <th>deck_risk</th>\n",
       "      <th>oe_constraint</th>\n",
       "      <th>ppap_risk</th>\n",
       "      <th>stop_auto_buy</th>\n",
       "      <th>rev_stop</th>\n",
       "      <th>went_on_backorder</th>\n",
       "    </tr>\n",
       "  </thead>\n",
       "  <tbody>\n",
       "    <tr>\n",
       "      <th>14</th>\n",
       "      <td>2098921</td>\n",
       "      <td>0</td>\n",
       "      <td>12.0</td>\n",
       "      <td>0</td>\n",
       "      <td>0</td>\n",
       "      <td>0</td>\n",
       "      <td>0</td>\n",
       "      <td>0</td>\n",
       "      <td>0</td>\n",
       "      <td>0</td>\n",
       "      <td>...</td>\n",
       "      <td>0</td>\n",
       "      <td>0.73</td>\n",
       "      <td>0.76</td>\n",
       "      <td>0</td>\n",
       "      <td>0</td>\n",
       "      <td>0</td>\n",
       "      <td>1</td>\n",
       "      <td>1</td>\n",
       "      <td>0</td>\n",
       "      <td>0</td>\n",
       "    </tr>\n",
       "    <tr>\n",
       "      <th>18</th>\n",
       "      <td>2116248</td>\n",
       "      <td>11</td>\n",
       "      <td>2.0</td>\n",
       "      <td>0</td>\n",
       "      <td>0</td>\n",
       "      <td>0</td>\n",
       "      <td>0</td>\n",
       "      <td>0</td>\n",
       "      <td>0</td>\n",
       "      <td>0</td>\n",
       "      <td>...</td>\n",
       "      <td>0</td>\n",
       "      <td>0.00</td>\n",
       "      <td>0.00</td>\n",
       "      <td>0</td>\n",
       "      <td>0</td>\n",
       "      <td>0</td>\n",
       "      <td>0</td>\n",
       "      <td>1</td>\n",
       "      <td>0</td>\n",
       "      <td>0</td>\n",
       "    </tr>\n",
       "    <tr>\n",
       "      <th>19</th>\n",
       "      <td>2116249</td>\n",
       "      <td>127</td>\n",
       "      <td>52.0</td>\n",
       "      <td>0</td>\n",
       "      <td>0</td>\n",
       "      <td>0</td>\n",
       "      <td>0</td>\n",
       "      <td>0</td>\n",
       "      <td>0</td>\n",
       "      <td>0</td>\n",
       "      <td>...</td>\n",
       "      <td>0</td>\n",
       "      <td>-99.00</td>\n",
       "      <td>-99.00</td>\n",
       "      <td>0</td>\n",
       "      <td>1</td>\n",
       "      <td>0</td>\n",
       "      <td>0</td>\n",
       "      <td>0</td>\n",
       "      <td>0</td>\n",
       "      <td>0</td>\n",
       "    </tr>\n",
       "    <tr>\n",
       "      <th>24</th>\n",
       "      <td>2063622</td>\n",
       "      <td>6</td>\n",
       "      <td>2.0</td>\n",
       "      <td>0</td>\n",
       "      <td>0</td>\n",
       "      <td>0</td>\n",
       "      <td>0</td>\n",
       "      <td>0</td>\n",
       "      <td>0</td>\n",
       "      <td>0</td>\n",
       "      <td>...</td>\n",
       "      <td>0</td>\n",
       "      <td>-99.00</td>\n",
       "      <td>0.23</td>\n",
       "      <td>0</td>\n",
       "      <td>1</td>\n",
       "      <td>0</td>\n",
       "      <td>0</td>\n",
       "      <td>1</td>\n",
       "      <td>0</td>\n",
       "      <td>0</td>\n",
       "    </tr>\n",
       "    <tr>\n",
       "      <th>26</th>\n",
       "      <td>2063870</td>\n",
       "      <td>4</td>\n",
       "      <td>8.0</td>\n",
       "      <td>0</td>\n",
       "      <td>0</td>\n",
       "      <td>0</td>\n",
       "      <td>0</td>\n",
       "      <td>0</td>\n",
       "      <td>0</td>\n",
       "      <td>0</td>\n",
       "      <td>...</td>\n",
       "      <td>0</td>\n",
       "      <td>0.83</td>\n",
       "      <td>0.86</td>\n",
       "      <td>0</td>\n",
       "      <td>0</td>\n",
       "      <td>0</td>\n",
       "      <td>0</td>\n",
       "      <td>1</td>\n",
       "      <td>0</td>\n",
       "      <td>0</td>\n",
       "    </tr>\n",
       "  </tbody>\n",
       "</table>\n",
       "<p>5 rows × 23 columns</p>\n",
       "</div>"
      ],
      "text/plain": [
       "        sku  national_inv  lead_time  in_transit_qty  forecast_3_month  \\\n",
       "14  2098921             0       12.0               0                 0   \n",
       "18  2116248            11        2.0               0                 0   \n",
       "19  2116249           127       52.0               0                 0   \n",
       "24  2063622             6        2.0               0                 0   \n",
       "26  2063870             4        8.0               0                 0   \n",
       "\n",
       "    forecast_6_month  forecast_9_month  sales_1_month  sales_3_month  \\\n",
       "14                 0                 0              0              0   \n",
       "18                 0                 0              0              0   \n",
       "19                 0                 0              0              0   \n",
       "24                 0                 0              0              0   \n",
       "26                 0                 0              0              0   \n",
       "\n",
       "    sales_6_month  ...  pieces_past_due  perf_6_month_avg  perf_12_month_avg  \\\n",
       "14              0  ...                0              0.73               0.76   \n",
       "18              0  ...                0              0.00               0.00   \n",
       "19              0  ...                0            -99.00             -99.00   \n",
       "24              0  ...                0            -99.00               0.23   \n",
       "26              0  ...                0              0.83               0.86   \n",
       "\n",
       "    local_bo_qty  deck_risk  oe_constraint  ppap_risk  stop_auto_buy  \\\n",
       "14             0          0              0          1              1   \n",
       "18             0          0              0          0              1   \n",
       "19             0          1              0          0              0   \n",
       "24             0          1              0          0              1   \n",
       "26             0          0              0          0              1   \n",
       "\n",
       "    rev_stop  went_on_backorder  \n",
       "14         0                  0  \n",
       "18         0                  0  \n",
       "19         0                  0  \n",
       "24         0                  0  \n",
       "26         0                  0  \n",
       "\n",
       "[5 rows x 23 columns]"
      ]
     },
     "execution_count": 15,
     "metadata": {},
     "output_type": "execute_result"
    },
    {
     "data": {
      "text/plain": [
       "['national_inv',\n",
       " 'sales_1_month',\n",
       " 'pieces_past_due',\n",
       " 'perf_6_month_avg',\n",
       " 'local_bo_qty',\n",
       " 'deck_risk',\n",
       " 'oe_constraint',\n",
       " 'ppap_risk',\n",
       " 'stop_auto_buy',\n",
       " 'rev_stop']"
      ]
     },
     "execution_count": 15,
     "metadata": {},
     "output_type": "execute_result"
    }
   ],
   "source": [
    "df_train.head()\n",
    "['national_inv', 'sales_1_month', 'pieces_past_due', 'perf_6_month_avg',\n",
    "            'local_bo_qty', 'deck_risk', 'oe_constraint', 'ppap_risk', 'stop_auto_buy', 'rev_stop']"
   ]
  },
  {
   "cell_type": "code",
   "execution_count": 16,
   "metadata": {
    "id": "XFBylszH9C8W"
   },
   "outputs": [],
   "source": [
    "df_train =df_train.drop(['sku'],axis=1)\n",
    "df_test =df_test.drop(['sku'],axis=1)"
   ]
  },
  {
   "cell_type": "code",
   "execution_count": 17,
   "metadata": {
    "id": "KMs3QWXu9fIm"
   },
   "outputs": [],
   "source": [
    "df_train =df_train.drop(['lead_time'],axis=1)\n",
    "df_test =df_test.drop(['lead_time'],axis=1)"
   ]
  },
  {
   "cell_type": "code",
   "execution_count": 18,
   "metadata": {
    "colab": {
     "base_uri": "https://localhost:8080/",
     "height": 162
    },
    "id": "YD0OvHi-9hHN",
    "outputId": "21c50d3d-4f56-4d52-cfeb-a9bd8fd3901d"
   },
   "outputs": [
    {
     "data": {
      "text/html": [
       "<div>\n",
       "<style scoped>\n",
       "    .dataframe tbody tr th:only-of-type {\n",
       "        vertical-align: middle;\n",
       "    }\n",
       "\n",
       "    .dataframe tbody tr th {\n",
       "        vertical-align: top;\n",
       "    }\n",
       "\n",
       "    .dataframe thead th {\n",
       "        text-align: right;\n",
       "    }\n",
       "</style>\n",
       "<table border=\"1\" class=\"dataframe\">\n",
       "  <thead>\n",
       "    <tr style=\"text-align: right;\">\n",
       "      <th></th>\n",
       "      <th>national_inv</th>\n",
       "      <th>in_transit_qty</th>\n",
       "      <th>forecast_3_month</th>\n",
       "      <th>forecast_6_month</th>\n",
       "      <th>forecast_9_month</th>\n",
       "      <th>sales_1_month</th>\n",
       "      <th>sales_3_month</th>\n",
       "      <th>sales_6_month</th>\n",
       "      <th>sales_9_month</th>\n",
       "      <th>min_bank</th>\n",
       "      <th>...</th>\n",
       "      <th>pieces_past_due</th>\n",
       "      <th>perf_6_month_avg</th>\n",
       "      <th>perf_12_month_avg</th>\n",
       "      <th>local_bo_qty</th>\n",
       "      <th>deck_risk</th>\n",
       "      <th>oe_constraint</th>\n",
       "      <th>ppap_risk</th>\n",
       "      <th>stop_auto_buy</th>\n",
       "      <th>rev_stop</th>\n",
       "      <th>went_on_backorder</th>\n",
       "    </tr>\n",
       "  </thead>\n",
       "  <tbody>\n",
       "    <tr>\n",
       "      <th>14</th>\n",
       "      <td>0</td>\n",
       "      <td>0</td>\n",
       "      <td>0</td>\n",
       "      <td>0</td>\n",
       "      <td>0</td>\n",
       "      <td>0</td>\n",
       "      <td>0</td>\n",
       "      <td>0</td>\n",
       "      <td>0</td>\n",
       "      <td>0</td>\n",
       "      <td>...</td>\n",
       "      <td>0</td>\n",
       "      <td>0.73</td>\n",
       "      <td>0.76</td>\n",
       "      <td>0</td>\n",
       "      <td>0</td>\n",
       "      <td>0</td>\n",
       "      <td>1</td>\n",
       "      <td>1</td>\n",
       "      <td>0</td>\n",
       "      <td>0</td>\n",
       "    </tr>\n",
       "    <tr>\n",
       "      <th>18</th>\n",
       "      <td>11</td>\n",
       "      <td>0</td>\n",
       "      <td>0</td>\n",
       "      <td>0</td>\n",
       "      <td>0</td>\n",
       "      <td>0</td>\n",
       "      <td>0</td>\n",
       "      <td>0</td>\n",
       "      <td>0</td>\n",
       "      <td>1</td>\n",
       "      <td>...</td>\n",
       "      <td>0</td>\n",
       "      <td>0.00</td>\n",
       "      <td>0.00</td>\n",
       "      <td>0</td>\n",
       "      <td>0</td>\n",
       "      <td>0</td>\n",
       "      <td>0</td>\n",
       "      <td>1</td>\n",
       "      <td>0</td>\n",
       "      <td>0</td>\n",
       "    </tr>\n",
       "    <tr>\n",
       "      <th>19</th>\n",
       "      <td>127</td>\n",
       "      <td>0</td>\n",
       "      <td>0</td>\n",
       "      <td>0</td>\n",
       "      <td>0</td>\n",
       "      <td>0</td>\n",
       "      <td>0</td>\n",
       "      <td>0</td>\n",
       "      <td>0</td>\n",
       "      <td>0</td>\n",
       "      <td>...</td>\n",
       "      <td>0</td>\n",
       "      <td>-99.00</td>\n",
       "      <td>-99.00</td>\n",
       "      <td>0</td>\n",
       "      <td>1</td>\n",
       "      <td>0</td>\n",
       "      <td>0</td>\n",
       "      <td>0</td>\n",
       "      <td>0</td>\n",
       "      <td>0</td>\n",
       "    </tr>\n",
       "    <tr>\n",
       "      <th>24</th>\n",
       "      <td>6</td>\n",
       "      <td>0</td>\n",
       "      <td>0</td>\n",
       "      <td>0</td>\n",
       "      <td>0</td>\n",
       "      <td>0</td>\n",
       "      <td>0</td>\n",
       "      <td>0</td>\n",
       "      <td>0</td>\n",
       "      <td>0</td>\n",
       "      <td>...</td>\n",
       "      <td>0</td>\n",
       "      <td>-99.00</td>\n",
       "      <td>0.23</td>\n",
       "      <td>0</td>\n",
       "      <td>1</td>\n",
       "      <td>0</td>\n",
       "      <td>0</td>\n",
       "      <td>1</td>\n",
       "      <td>0</td>\n",
       "      <td>0</td>\n",
       "    </tr>\n",
       "    <tr>\n",
       "      <th>26</th>\n",
       "      <td>4</td>\n",
       "      <td>0</td>\n",
       "      <td>0</td>\n",
       "      <td>0</td>\n",
       "      <td>0</td>\n",
       "      <td>0</td>\n",
       "      <td>0</td>\n",
       "      <td>0</td>\n",
       "      <td>0</td>\n",
       "      <td>0</td>\n",
       "      <td>...</td>\n",
       "      <td>0</td>\n",
       "      <td>0.83</td>\n",
       "      <td>0.86</td>\n",
       "      <td>0</td>\n",
       "      <td>0</td>\n",
       "      <td>0</td>\n",
       "      <td>0</td>\n",
       "      <td>1</td>\n",
       "      <td>0</td>\n",
       "      <td>0</td>\n",
       "    </tr>\n",
       "  </tbody>\n",
       "</table>\n",
       "<p>5 rows × 21 columns</p>\n",
       "</div>"
      ],
      "text/plain": [
       "    national_inv  in_transit_qty  forecast_3_month  forecast_6_month  \\\n",
       "14             0               0                 0                 0   \n",
       "18            11               0                 0                 0   \n",
       "19           127               0                 0                 0   \n",
       "24             6               0                 0                 0   \n",
       "26             4               0                 0                 0   \n",
       "\n",
       "    forecast_9_month  sales_1_month  sales_3_month  sales_6_month  \\\n",
       "14                 0              0              0              0   \n",
       "18                 0              0              0              0   \n",
       "19                 0              0              0              0   \n",
       "24                 0              0              0              0   \n",
       "26                 0              0              0              0   \n",
       "\n",
       "    sales_9_month  min_bank  ...  pieces_past_due  perf_6_month_avg  \\\n",
       "14              0         0  ...                0              0.73   \n",
       "18              0         1  ...                0              0.00   \n",
       "19              0         0  ...                0            -99.00   \n",
       "24              0         0  ...                0            -99.00   \n",
       "26              0         0  ...                0              0.83   \n",
       "\n",
       "    perf_12_month_avg  local_bo_qty  deck_risk  oe_constraint  ppap_risk  \\\n",
       "14               0.76             0          0              0          1   \n",
       "18               0.00             0          0              0          0   \n",
       "19             -99.00             0          1              0          0   \n",
       "24               0.23             0          1              0          0   \n",
       "26               0.86             0          0              0          0   \n",
       "\n",
       "    stop_auto_buy  rev_stop  went_on_backorder  \n",
       "14              1         0                  0  \n",
       "18              1         0                  0  \n",
       "19              0         0                  0  \n",
       "24              1         0                  0  \n",
       "26              1         0                  0  \n",
       "\n",
       "[5 rows x 21 columns]"
      ]
     },
     "execution_count": 18,
     "metadata": {},
     "output_type": "execute_result"
    }
   ],
   "source": [
    "df_train.head()"
   ]
  },
  {
   "cell_type": "markdown",
   "metadata": {},
   "source": [
    "# Data Visualisation"
   ]
  },
  {
   "cell_type": "code",
   "execution_count": 20,
   "metadata": {
    "colab": {
     "base_uri": "https://localhost:8080/",
     "height": 282
    },
    "id": "dyH1qwK39jk1",
    "outputId": "be4dab53-4340-4a56-c5de-ac47dc244d61"
   },
   "outputs": [
    {
     "data": {
      "text/plain": [
       "<Figure size 576x720 with 0 Axes>"
      ]
     },
     "execution_count": 20,
     "metadata": {},
     "output_type": "execute_result"
    },
    {
     "data": {
      "text/plain": [
       "<matplotlib.axes._subplots.AxesSubplot at 0x299904653d0>"
      ]
     },
     "execution_count": 20,
     "metadata": {},
     "output_type": "execute_result"
    },
    {
     "data": {
      "text/plain": [
       "Text(0, 0.5, 'Count')"
      ]
     },
     "execution_count": 20,
     "metadata": {},
     "output_type": "execute_result"
    },
    {
     "data": {
      "text/plain": [
       "Text(0.5, 1.0, 'Went on backorder? (0=No, 1=Yes)')"
      ]
     },
     "execution_count": 20,
     "metadata": {},
     "output_type": "execute_result"
    },
    {
     "data": {
      "image/png": "[encoded data removed]",
      "text/plain": [
       "<Figure size 576x720 with 1 Axes>"
      ]
     },
     "metadata": {},
     "output_type": "display_data"
    }
   ],
   "source": [
    "plt.figure(figsize=(8,10))\n",
    "df_train['went_on_backorder'].value_counts().plot(kind = 'pie')\n",
    "plt.ylabel(\"Count\")\n",
    "plt.title('Went on backorder? (0=No, 1=Yes)')"
   ]
  },
  {
   "cell_type": "code",
   "execution_count": 22,
   "metadata": {},
   "outputs": [
    {
     "data": {
      "text/html": [
       "        <script type=\"text/javascript\">\n",
       "        window.PlotlyConfig = {MathJaxConfig: 'local'};\n",
       "        if (window.MathJax) {MathJax.Hub.Config({SVG: {font: \"STIX-Web\"}});}\n",
       "        if (typeof require !== 'undefined') {\n",
       "        require.undef(\"plotly\");\n",
       "        requirejs.config({\n",
       "            paths: {\n",
       "                'plotly': ['https://cdn.plot.ly/plotly-latest.min']\n",
       "            }\n",
       "        });\n",
       "        require(['plotly'], function(Plotly) {\n",
       "            window._Plotly = Plotly;\n",
       "        });\n",
       "        }\n",
       "        </script>\n",
       "        "
      ]
     },
     "metadata": {},
     "output_type": "display_data"
    },
    {
     "data": {
      "application/vnd.plotly.v1+json": {
       "config": {
        "linkText": "Export to plot.ly",
        "plotlyServerURL": "https://plot.ly",
        "showLink": false
       },
       "data": [
        {
         "type": "heatmap",
         "x": [
          "national_inv",
          "in_transit_qty",
          "forecast_3_month",
          "forecast_6_month",
          "forecast_9_month",
          "sales_1_month",
          "sales_3_month",
          "sales_6_month",
          "sales_9_month",
          "min_bank",
          "potential_issue",
          "pieces_past_due",
          "perf_6_month_avg",
          "perf_12_month_avg",
          "local_bo_qty",
          "deck_risk",
          "oe_constraint",
          "ppap_risk",
          "stop_auto_buy",
          "rev_stop",
          "went_on_backorder"
         ],
         "y": [
          "national_inv",
          "in_transit_qty",
          "forecast_3_month",
          "forecast_6_month",
          "forecast_9_month",
          "sales_1_month",
          "sales_3_month",
          "sales_6_month",
          "sales_9_month",
          "min_bank",
          "potential_issue",
          "pieces_past_due",
          "perf_6_month_avg",
          "perf_12_month_avg",
          "local_bo_qty",
          "deck_risk",
          "oe_constraint",
          "ppap_risk",
          "stop_auto_buy",
          "rev_stop",
          "went_on_backorder"
         ],
         "z": [
          [
           1,
           0.09917488676415896,
           0.08411680263597315,
           0.08449114512232236,
           0.08349569087651372,
           0.19184680579075902,
           0.18215610367729645,
           0.21029093884242994,
           0.2330226299359722,
           0.5023634976360756,
           0.0001514887361182468,
           0.01117587783223238,
           -0.03030215460173117,
           -0.023328978983456653,
           0.006271372457629827,
           -0.0046183213838845065,
           0.00020576700829322904,
           -0.00045118241969788414,
           -0.0020046140858413592,
           9.762679562096289e-05,
           -0.001290409574430533
          ],
          [
           0.09917488676415896,
           1,
           0.6540109625994451,
           0.7163028954112034,
           0.7294638893487739,
           0.6579679409170559,
           0.6798423453394089,
           0.6959454420964079,
           0.6890376495653453,
           0.6904451800318154,
           0.009631953593848821,
           0.11402197565866265,
           0.001781107200812088,
           0.0032249855452551766,
           0.03388581307840545,
           -0.017287853430700165,
           0.0037029627949808977,
           -0.002791629220584072,
           0.0027701368144623455,
           0.004448211646881834,
           -0.0030562122061972437
          ],
          [
           0.08411680263597315,
           0.6540109625994451,
           1,
           0.9754296661141268,
           0.9475098435475096,
           0.7569057876712615,
           0.7655368663636032,
           0.7676890466517631,
           0.7547580703170055,
           0.7760735786245817,
           0.006805027917602791,
           0.25449943040066647,
           0.002971374392306612,
           0.0029243551575048495,
           0.047390539271320385,
           -0.014081147448857837,
           0.0027216174709211553,
           -0.0019573490391150087,
           0.000353548897496356,
           0.0002593994330126665,
           0.0013588443949620068
          ],
          [
           0.08449114512232236,
           0.7163028954112034,
           0.9754296661141268,
           1,
           0.9924153460872557,
           0.8131413667468778,
           0.8383308238469653,
           0.850910971294533,
           0.8405291139581371,
           0.8122066582658742,
           0.006736680177261563,
           0.25744050707096583,
           0.0029253654083339197,
           0.0027279342258280438,
           0.04440612670632255,
           -0.01546790911599909,
           0.0028819640842587175,
           -0.0024812902258894397,
           0.0012134858229915638,
           -0.00011690187163818848,
           0.0009023914186871569
          ],
          [
           0.08349569087651372,
           0.7294638893487739,
           0.9475098435475096,
           0.9924153460872557,
           1,
           0.8386642451708493,
           0.8750762872511778,
           0.8923470869126293,
           0.8828552472627264,
           0.8177409815784191,
           0.00681994878435735,
           0.24707834096678166,
           0.0028556085391659536,
           0.002560472655339147,
           0.04398479355488911,
           -0.016083702521005785,
           0.003108785690043997,
           -0.002934651635048224,
           0.001462306912356089,
           -0.00026357642947148194,
           0.00046128572035067454
          ],
          [
           0.19184680579075902,
           0.6579679409170559,
           0.7569057876712615,
           0.8131413667468778,
           0.8386642451708493,
           1,
           0.9202647221155872,
           0.914759400160935,
           0.9006657401878182,
           0.7839391759467947,
           0.0062973196214782135,
           0.1479186815410381,
           -0.0017209575862353705,
           0.0008490681999882289,
           0.06063680563289921,
           -0.015177011656876791,
           0.005281190277910073,
           -0.003728242267471125,
           -0.0014589563841371695,
           -0.0003742778777817262,
           -0.0010498466980745338
          ],
          [
           0.18215610367729645,
           0.6798423453394089,
           0.7655368663636032,
           0.8383308238469653,
           0.8750762872511778,
           0.9202647221155872,
           1,
           0.9861499690729393,
           0.9674452786399333,
           0.8019573604851827,
           0.006384608474813099,
           0.1634229266022791,
           -0.0014531681280934763,
           0.0011648054225855639,
           0.051073135449168305,
           -0.016069988439440012,
           0.005159335051309468,
           -0.003992879154657121,
           -0.0014842807931012185,
           -0.0004774400276129935,
           -0.0013690307696479721
          ],
          [
           0.21029093884242994,
           0.6959454420964079,
           0.7676890466517631,
           0.850910971294533,
           0.8923470869126293,
           0.914759400160935,
           0.9861499690729393,
           1,
           0.9906650729270341,
           0.834219987082152,
           0.005960571071937631,
           0.16204406255316137,
           -0.0016946501923555967,
           0.0009379393846178476,
           0.04323821105517048,
           -0.01649329688158514,
           0.004673964875177876,
           -0.004035259470449088,
           -0.0010020449143116645,
           -0.0004907498747406363,
           -0.0016738055587672957
          ],
          [
           0.2330226299359722,
           0.6890376495653453,
           0.7547580703170055,
           0.8405291139581371,
           0.8828552472627264,
           0.9006657401878182,
           0.9674452786399333,
           0.9906650729270341,
           1,
           0.8379206716512996,
           0.005489865857551492,
           0.15877117558592097,
           -0.0021524031614198426,
           0.0005673215261889129,
           0.038511136550398686,
           -0.016344822935955485,
           0.004412874237390135,
           -0.003934031471617629,
           -0.0004542359874152444,
           -0.000498807043757953,
           -0.0017538499565450936
          ],
          [
           0.5023634976360756,
           0.6904451800318154,
           0.7760735786245817,
           0.8122066582658742,
           0.8177409815784191,
           0.7839391759467947,
           0.8019573604851827,
           0.834219987082152,
           0.8379206716512996,
           1,
           0.005901080185664704,
           0.18763853789522308,
           -0.009378170016526037,
           -0.0037306139046906816,
           0.0429582473450073,
           -0.01950774058753085,
           0.004037033359542177,
           -0.0025318589389102,
           -0.001776129889455094,
           0.00151487566805755,
           -0.0006148610599045858
          ],
          [
           0.0001514887361182468,
           0.009631953593848821,
           0.006805027917602791,
           0.006736680177261563,
           0.00681994878435735,
           0.0062973196214782135,
           0.006384608474813099,
           0.005960571071937631,
           0.005489865857551492,
           0.005901080185664704,
           1,
           0.0018700321781195564,
           -0.001428666528892078,
           -0.0021344460792759577,
           0.0034540899467588233,
           0.00582301895436364,
           0.011758320504379437,
           0.008885098525747483,
           0.0019065999479825212,
           -0.00034687457581566875,
           0.009831441596407055
          ],
          [
           0.01117587783223238,
           0.11402197565866265,
           0.25449943040066647,
           0.25744050707096583,
           0.24707834096678166,
           0.1479186815410381,
           0.1634229266022791,
           0.16204406255316137,
           0.15877117558592097,
           0.18763853789522308,
           0.0018700321781195564,
           1,
           0.0007450949930323642,
           0.0006513549310572965,
           0.016590155879682014,
           -0.0026895870770047422,
           0.0007084065923495959,
           0.0010789721426128695,
           -0.0006129392640792594,
           -4.465363104328732e-05,
           0.0038896653366430577
          ],
          [
           -0.03030215460173117,
           0.001781107200812088,
           0.002971374392306612,
           0.0029253654083339197,
           0.0028556085391659536,
           -0.0017209575862353705,
           -0.0014531681280934763,
           -0.0016946501923555967,
           -0.0021524031614198426,
           -0.009378170016526037,
           -0.001428666528892078,
           0.0007450949930323642,
           1,
           0.8550681586344071,
           0.00014155545573900577,
           -0.04145111148681446,
           0.0015396520484407344,
           -0.03953459312828528,
           0.0818587783332044,
           -0.007780929235628722,
           0.0027053837358235575
          ],
          [
           -0.023328978983456653,
           0.0032249855452551766,
           0.0029243551575048495,
           0.0027279342258280438,
           0.002560472655339147,
           0.0008490681999882289,
           0.0011648054225855639,
           0.0009379393846178476,
           0.0005673215261889129,
           -0.0037306139046906816,
           -0.0021344460792759577,
           0.0006513549310572965,
           0.8550681586344071,
           1,
           0.000714552154638494,
           -0.04003421734960717,
           0.0012541724017334625,
           -0.0405696138416482,
           0.07134003589977782,
           -0.00974281622396388,
           0.003291127346268822
          ],
          [
           0.006271372457629827,
           0.03388581307840545,
           0.047390539271320385,
           0.04440612670632255,
           0.04398479355488911,
           0.06063680563289921,
           0.051073135449168305,
           0.04323821105517048,
           0.038511136550398686,
           0.0429582473450073,
           0.0034540899467588233,
           0.016590155879682014,
           0.00014155545573900577,
           0.000714552154638494,
           1,
           -0.005627486635622701,
           0.012754523168970149,
           -0.0024172574300269723,
           -0.0004999378931803859,
           -0.00023953117070242235,
           0.006996707218269504
          ],
          [
           -0.0046183213838845065,
           -0.017287853430700165,
           -0.014081147448857837,
           -0.01546790911599909,
           -0.016083702521005785,
           -0.015177011656876791,
           -0.016069988439440012,
           -0.01649329688158514,
           -0.016344822935955485,
           -0.01950774058753085,
           0.00582301895436364,
           -0.0026895870770047422,
           -0.04145111148681446,
           -0.04003421734960717,
           -0.005627486635622701,
           1,
           0.00107679873314516,
           0.03705128734209888,
           -0.20463681937823505,
           -0.0032636205822044527,
           -0.006757059629053975
          ],
          [
           0.00020576700829322904,
           0.0037029627949808977,
           0.0027216174709211553,
           0.0028819640842587175,
           0.003108785690043997,
           0.005281190277910073,
           0.005159335051309468,
           0.004673964875177876,
           0.004412874237390135,
           0.004037033359542177,
           0.011758320504379437,
           0.0007084065923495959,
           0.0015396520484407344,
           0.0012541724017334625,
           0.012754523168970149,
           0.00107679873314516,
           1,
           0.003690071780653311,
           0.0023288620934120317,
           -0.0002134317344896009,
           0.001655403053980639
          ],
          [
           -0.00045118241969788414,
           -0.002791629220584072,
           -0.0019573490391150087,
           -0.0024812902258894397,
           -0.002934651635048224,
           -0.003728242267471125,
           -0.003992879154657121,
           -0.004035259470449088,
           -0.003934031471617629,
           -0.0025318589389102,
           0.008885098525747483,
           0.0010789721426128695,
           -0.03953459312828528,
           -0.0405696138416482,
           -0.0024172574300269723,
           0.03705128734209888,
           0.003690071780653311,
           1,
           -0.023012695877363907,
           0.029445378029761562,
           0.0068397570178428384
          ],
          [
           -0.0020046140858413592,
           0.0027701368144623455,
           0.000353548897496356,
           0.0012134858229915638,
           0.001462306912356089,
           -0.0014589563841371695,
           -0.0014842807931012185,
           -0.0010020449143116645,
           -0.0004542359874152444,
           -0.001776129889455094,
           0.0019065999479825212,
           -0.0006129392640792594,
           0.0818587783332044,
           0.07134003589977782,
           -0.0004999378931803859,
           -0.20463681937823505,
           0.0023288620934120317,
           -0.023012695877363907,
           1,
           -0.0761494228922059,
           -0.002886206368359451
          ],
          [
           9.762679562096289e-05,
           0.004448211646881834,
           0.0002593994330126665,
           -0.00011690187163818848,
           -0.00026357642947148194,
           -0.0003742778777817262,
           -0.0004774400276129935,
           -0.0004907498747406363,
           -0.000498807043757953,
           0.00151487566805755,
           -0.00034687457581566875,
           -4.465363104328732e-05,
           -0.007780929235628722,
           -0.00974281622396388,
           -0.00023953117070242235,
           -0.0032636205822044527,
           -0.0002134317344896009,
           0.029445378029761562,
           -0.0761494228922059,
           1,
           0.00728568162160639
          ],
          [
           -0.001290409574430533,
           -0.0030562122061972437,
           0.0013588443949620068,
           0.0009023914186871569,
           0.00046128572035067454,
           -0.0010498466980745338,
           -0.0013690307696479721,
           -0.0016738055587672957,
           -0.0017538499565450936,
           -0.0006148610599045858,
           0.009831441596407055,
           0.0038896653366430577,
           0.0027053837358235575,
           0.003291127346268822,
           0.006996707218269504,
           -0.006757059629053975,
           0.001655403053980639,
           0.0068397570178428384,
           -0.002886206368359451,
           0.00728568162160639,
           1
          ]
         ]
        }
       ],
       "layout": {
        "template": {
         "data": {
          "bar": [
           {
            "error_x": {
             "color": "#2a3f5f"
            },
            "error_y": {
             "color": "#2a3f5f"
            },
            "marker": {
             "line": {
              "color": "#E5ECF6",
              "width": 0.5
             }
            },
            "type": "bar"
           }
          ],
          "barpolar": [
           {
            "marker": {
             "line": {
              "color": "#E5ECF6",
              "width": 0.5
             }
            },
            "type": "barpolar"
           }
          ],
          "carpet": [
           {
            "aaxis": {
             "endlinecolor": "#2a3f5f",
             "gridcolor": "white",
             "linecolor": "white",
             "minorgridcolor": "white",
             "startlinecolor": "#2a3f5f"
            },
            "baxis": {
             "endlinecolor": "#2a3f5f",
             "gridcolor": "white",
             "linecolor": "white",
             "minorgridcolor": "white",
             "startlinecolor": "#2a3f5f"
            },
            "type": "carpet"
           }
          ],
          "choropleth": [
           {
            "colorbar": {
             "outlinewidth": 0,
             "ticks": ""
            },
            "type": "choropleth"
           }
          ],
          "contour": [
           {
            "colorbar": {
             "outlinewidth": 0,
             "ticks": ""
            },
            "colorscale": [
             [
              0,
              "#0d0887"
             ],
             [
              0.1111111111111111,
              "#46039f"
             ],
             [
              0.2222222222222222,
              "#7201a8"
             ],
             [
              0.3333333333333333,
              "#9c179e"
             ],
             [
              0.4444444444444444,
              "#bd3786"
             ],
             [
              0.5555555555555556,
              "#d8576b"
             ],
             [
              0.6666666666666666,
              "#ed7953"
             ],
             [
              0.7777777777777778,
              "#fb9f3a"
             ],
             [
              0.8888888888888888,
              "#fdca26"
             ],
             [
              1,
              "#f0f921"
             ]
            ],
            "type": "contour"
           }
          ],
          "contourcarpet": [
           {
            "colorbar": {
             "outlinewidth": 0,
             "ticks": ""
            },
            "type": "contourcarpet"
           }
          ],
          "heatmap": [
           {
            "colorbar": {
             "outlinewidth": 0,
             "ticks": ""
            },
            "colorscale": [
             [
              0,
              "#0d0887"
             ],
             [
              0.1111111111111111,
              "#46039f"
             ],
             [
              0.2222222222222222,
              "#7201a8"
             ],
             [
              0.3333333333333333,
              "#9c179e"
             ],
             [
              0.4444444444444444,
              "#bd3786"
             ],
             [
              0.5555555555555556,
              "#d8576b"
             ],
             [
              0.6666666666666666,
              "#ed7953"
             ],
             [
              0.7777777777777778,
              "#fb9f3a"
             ],
             [
              0.8888888888888888,
              "#fdca26"
             ],
             [
              1,
              "#f0f921"
             ]
            ],
            "type": "heatmap"
           }
          ],
          "heatmapgl": [
           {
            "colorbar": {
             "outlinewidth": 0,
             "ticks": ""
            },
            "colorscale": [
             [
              0,
              "#0d0887"
             ],
             [
              0.1111111111111111,
              "#46039f"
             ],
             [
              0.2222222222222222,
              "#7201a8"
             ],
             [
              0.3333333333333333,
              "#9c179e"
             ],
             [
              0.4444444444444444,
              "#bd3786"
             ],
             [
              0.5555555555555556,
              "#d8576b"
             ],
             [
              0.6666666666666666,
              "#ed7953"
             ],
             [
              0.7777777777777778,
              "#fb9f3a"
             ],
             [
              0.8888888888888888,
              "#fdca26"
             ],
             [
              1,
              "#f0f921"
             ]
            ],
            "type": "heatmapgl"
           }
          ],
          "histogram": [
           {
            "marker": {
             "colorbar": {
              "outlinewidth": 0,
              "ticks": ""
             }
            },
            "type": "histogram"
           }
          ],
          "histogram2d": [
           {
            "colorbar": {
             "outlinewidth": 0,
             "ticks": ""
            },
            "colorscale": [
             [
              0,
              "#0d0887"
             ],
             [
              0.1111111111111111,
              "#46039f"
             ],
             [
              0.2222222222222222,
              "#7201a8"
             ],
             [
              0.3333333333333333,
              "#9c179e"
             ],
             [
              0.4444444444444444,
              "#bd3786"
             ],
             [
              0.5555555555555556,
              "#d8576b"
             ],
             [
              0.6666666666666666,
              "#ed7953"
             ],
             [
              0.7777777777777778,
              "#fb9f3a"
             ],
             [
              0.8888888888888888,
              "#fdca26"
             ],
             [
              1,
              "#f0f921"
             ]
            ],
            "type": "histogram2d"
           }
          ],
          "histogram2dcontour": [
           {
            "colorbar": {
             "outlinewidth": 0,
             "ticks": ""
            },
            "colorscale": [
             [
              0,
              "#0d0887"
             ],
             [
              0.1111111111111111,
              "#46039f"
             ],
             [
              0.2222222222222222,
              "#7201a8"
             ],
             [
              0.3333333333333333,
              "#9c179e"
             ],
             [
              0.4444444444444444,
              "#bd3786"
             ],
             [
              0.5555555555555556,
              "#d8576b"
             ],
             [
              0.6666666666666666,
              "#ed7953"
             ],
             [
              0.7777777777777778,
              "#fb9f3a"
             ],
             [
              0.8888888888888888,
              "#fdca26"
             ],
             [
              1,
              "#f0f921"
             ]
            ],
            "type": "histogram2dcontour"
           }
          ],
          "mesh3d": [
           {
            "colorbar": {
             "outlinewidth": 0,
             "ticks": ""
            },
            "type": "mesh3d"
           }
          ],
          "parcoords": [
           {
            "line": {
             "colorbar": {
              "outlinewidth": 0,
              "ticks": ""
             }
            },
            "type": "parcoords"
           }
          ],
          "pie": [
           {
            "automargin": true,
            "type": "pie"
           }
          ],
          "scatter": [
           {
            "marker": {
             "colorbar": {
              "outlinewidth": 0,
              "ticks": ""
             }
            },
            "type": "scatter"
           }
          ],
          "scatter3d": [
           {
            "line": {
             "colorbar": {
              "outlinewidth": 0,
              "ticks": ""
             }
            },
            "marker": {
             "colorbar": {
              "outlinewidth": 0,
              "ticks": ""
             }
            },
            "type": "scatter3d"
           }
          ],
          "scattercarpet": [
           {
            "marker": {
             "colorbar": {
              "outlinewidth": 0,
              "ticks": ""
             }
            },
            "type": "scattercarpet"
           }
          ],
          "scattergeo": [
           {
            "marker": {
             "colorbar": {
              "outlinewidth": 0,
              "ticks": ""
             }
            },
            "type": "scattergeo"
           }
          ],
          "scattergl": [
           {
            "marker": {
             "colorbar": {
              "outlinewidth": 0,
              "ticks": ""
             }
            },
            "type": "scattergl"
           }
          ],
          "scattermapbox": [
           {
            "marker": {
             "colorbar": {
              "outlinewidth": 0,
              "ticks": ""
             }
            },
            "type": "scattermapbox"
           }
          ],
          "scatterpolar": [
           {
            "marker": {
             "colorbar": {
              "outlinewidth": 0,
              "ticks": ""
             }
            },
            "type": "scatterpolar"
           }
          ],
          "scatterpolargl": [
           {
            "marker": {
             "colorbar": {
              "outlinewidth": 0,
              "ticks": ""
             }
            },
            "type": "scatterpolargl"
           }
          ],
          "scatterternary": [
           {
            "marker": {
             "colorbar": {
              "outlinewidth": 0,
              "ticks": ""
             }
            },
            "type": "scatterternary"
           }
          ],
          "surface": [
           {
            "colorbar": {
             "outlinewidth": 0,
             "ticks": ""
            },
            "colorscale": [
             [
              0,
              "#0d0887"
             ],
             [
              0.1111111111111111,
              "#46039f"
             ],
             [
              0.2222222222222222,
              "#7201a8"
             ],
             [
              0.3333333333333333,
              "#9c179e"
             ],
             [
              0.4444444444444444,
              "#bd3786"
             ],
             [
              0.5555555555555556,
              "#d8576b"
             ],
             [
              0.6666666666666666,
              "#ed7953"
             ],
             [
              0.7777777777777778,
              "#fb9f3a"
             ],
             [
              0.8888888888888888,
              "#fdca26"
             ],
             [
              1,
              "#f0f921"
             ]
            ],
            "type": "surface"
           }
          ],
          "table": [
           {
            "cells": {
             "fill": {
              "color": "#EBF0F8"
             },
             "line": {
              "color": "white"
             }
            },
            "header": {
             "fill": {
              "color": "#C8D4E3"
             },
             "line": {
              "color": "white"
             }
            },
            "type": "table"
           }
          ]
         },
         "layout": {
          "annotationdefaults": {
           "arrowcolor": "#2a3f5f",
           "arrowhead": 0,
           "arrowwidth": 1
          },
          "autotypenumbers": "strict",
          "coloraxis": {
           "colorbar": {
            "outlinewidth": 0,
            "ticks": ""
           }
          },
          "colorscale": {
           "diverging": [
            [
             0,
             "#8e0152"
            ],
            [
             0.1,
             "#c51b7d"
            ],
            [
             0.2,
             "#de77ae"
            ],
            [
             0.3,
             "#f1b6da"
            ],
            [
             0.4,
             "#fde0ef"
            ],
            [
             0.5,
             "#f7f7f7"
            ],
            [
             0.6,
             "#e6f5d0"
            ],
            [
             0.7,
             "#b8e186"
            ],
            [
             0.8,
             "#7fbc41"
            ],
            [
             0.9,
             "#4d9221"
            ],
            [
             1,
             "#276419"
            ]
           ],
           "sequential": [
            [
             0,
             "#0d0887"
            ],
            [
             0.1111111111111111,
             "#46039f"
            ],
            [
             0.2222222222222222,
             "#7201a8"
            ],
            [
             0.3333333333333333,
             "#9c179e"
            ],
            [
             0.4444444444444444,
             "#bd3786"
            ],
            [
             0.5555555555555556,
             "#d8576b"
            ],
            [
             0.6666666666666666,
             "#ed7953"
            ],
            [
             0.7777777777777778,
             "#fb9f3a"
            ],
            [
             0.8888888888888888,
             "#fdca26"
            ],
            [
             1,
             "#f0f921"
            ]
           ],
           "sequentialminus": [
            [
             0,
             "#0d0887"
            ],
            [
             0.1111111111111111,
             "#46039f"
            ],
            [
             0.2222222222222222,
             "#7201a8"
            ],
            [
             0.3333333333333333,
             "#9c179e"
            ],
            [
             0.4444444444444444,
             "#bd3786"
            ],
            [
             0.5555555555555556,
             "#d8576b"
            ],
            [
             0.6666666666666666,
             "#ed7953"
            ],
            [
             0.7777777777777778,
             "#fb9f3a"
            ],
            [
             0.8888888888888888,
             "#fdca26"
            ],
            [
             1,
             "#f0f921"
            ]
           ]
          },
          "colorway": [
           "#636efa",
           "#EF553B",
           "#00cc96",
           "#ab63fa",
           "#FFA15A",
           "#19d3f3",
           "#FF6692",
           "#B6E880",
           "#FF97FF",
           "#FECB52"
          ],
          "font": {
           "color": "#2a3f5f"
          },
          "geo": {
           "bgcolor": "white",
           "lakecolor": "white",
           "landcolor": "#E5ECF6",
           "showlakes": true,
           "showland": true,
           "subunitcolor": "white"
          },
          "hoverlabel": {
           "align": "left"
          },
          "hovermode": "closest",
          "mapbox": {
           "style": "light"
          },
          "paper_bgcolor": "white",
          "plot_bgcolor": "#E5ECF6",
          "polar": {
           "angularaxis": {
            "gridcolor": "white",
            "linecolor": "white",
            "ticks": ""
           },
           "bgcolor": "#E5ECF6",
           "radialaxis": {
            "gridcolor": "white",
            "linecolor": "white",
            "ticks": ""
           }
          },
          "scene": {
           "xaxis": {
            "backgroundcolor": "#E5ECF6",
            "gridcolor": "white",
            "gridwidth": 2,
            "linecolor": "white",
            "showbackground": true,
            "ticks": "",
            "zerolinecolor": "white"
           },
           "yaxis": {
            "backgroundcolor": "#E5ECF6",
            "gridcolor": "white",
            "gridwidth": 2,
            "linecolor": "white",
            "showbackground": true,
            "ticks": "",
            "zerolinecolor": "white"
           },
           "zaxis": {
            "backgroundcolor": "#E5ECF6",
            "gridcolor": "white",
            "gridwidth": 2,
            "linecolor": "white",
            "showbackground": true,
            "ticks": "",
            "zerolinecolor": "white"
           }
          },
          "shapedefaults": {
           "line": {
            "color": "#2a3f5f"
           }
          },
          "ternary": {
           "aaxis": {
            "gridcolor": "white",
            "linecolor": "white",
            "ticks": ""
           },
           "baxis": {
            "gridcolor": "white",
            "linecolor": "white",
            "ticks": ""
           },
           "bgcolor": "#E5ECF6",
           "caxis": {
            "gridcolor": "white",
            "linecolor": "white",
            "ticks": ""
           }
          },
          "title": {
           "x": 0.05
          },
          "xaxis": {
           "automargin": true,
           "gridcolor": "white",
           "linecolor": "white",
           "ticks": "",
           "title": {
            "standoff": 15
           },
           "zerolinecolor": "white",
           "zerolinewidth": 2
          },
          "yaxis": {
           "automargin": true,
           "gridcolor": "white",
           "linecolor": "white",
           "ticks": "",
           "title": {
            "standoff": 15
           },
           "zerolinecolor": "white",
           "zerolinewidth": 2
          }
         }
        }
       }
      },
      "text/html": [
       "<div>                            <div id=\"817e309d-3b6c-47a9-ba7f-c49061d13b4b\" class=\"plotly-graph-div\" style=\"height:525px; width:100%;\"></div>            <script type=\"text/javascript\">                require([\"plotly\"], function(Plotly) {                    window.PLOTLYENV=window.PLOTLYENV || {};                                    if (document.getElementById(\"817e309d-3b6c-47a9-ba7f-c49061d13b4b\")) {                    Plotly.newPlot(                        \"817e309d-3b6c-47a9-ba7f-c49061d13b4b\",                        [{\"type\": \"heatmap\", \"x\": [\"national_inv\", \"in_transit_qty\", \"forecast_3_month\", \"forecast_6_month\", \"forecast_9_month\", \"sales_1_month\", \"sales_3_month\", \"sales_6_month\", \"sales_9_month\", \"min_bank\", \"potential_issue\", \"pieces_past_due\", \"perf_6_month_avg\", \"perf_12_month_avg\", \"local_bo_qty\", \"deck_risk\", \"oe_constraint\", \"ppap_risk\", \"stop_auto_buy\", \"rev_stop\", \"went_on_backorder\"], \"y\": [\"national_inv\", \"in_transit_qty\", \"forecast_3_month\", \"forecast_6_month\", \"forecast_9_month\", \"sales_1_month\", \"sales_3_month\", \"sales_6_month\", \"sales_9_month\", \"min_bank\", \"potential_issue\", \"pieces_past_due\", \"perf_6_month_avg\", \"perf_12_month_avg\", \"local_bo_qty\", \"deck_risk\", \"oe_constraint\", \"ppap_risk\", \"stop_auto_buy\", \"rev_stop\", \"went_on_backorder\"], \"z\": [[1.0, 0.09917488676415896, 0.08411680263597315, 0.08449114512232236, 0.08349569087651372, 0.19184680579075902, 0.18215610367729645, 0.21029093884242994, 0.2330226299359722, 0.5023634976360756, 0.0001514887361182468, 0.01117587783223238, -0.03030215460173117, -0.023328978983456653, 0.006271372457629827, -0.0046183213838845065, 0.00020576700829322904, -0.00045118241969788414, -0.0020046140858413592, 9.762679562096289e-05, -0.001290409574430533], [0.09917488676415896, 1.0, 0.6540109625994451, 0.7163028954112034, 0.7294638893487739, 0.6579679409170559, 0.6798423453394089, 0.6959454420964079, 0.6890376495653453, 0.6904451800318154, 0.009631953593848821, 0.11402197565866265, 0.001781107200812088, 0.0032249855452551766, 0.03388581307840545, -0.017287853430700165, 0.0037029627949808977, -0.002791629220584072, 0.0027701368144623455, 0.004448211646881834, -0.0030562122061972437], [0.08411680263597315, 0.6540109625994451, 1.0, 0.9754296661141268, 0.9475098435475096, 0.7569057876712615, 0.7655368663636032, 0.7676890466517631, 0.7547580703170055, 0.7760735786245817, 0.006805027917602791, 0.25449943040066647, 0.002971374392306612, 0.0029243551575048495, 0.047390539271320385, -0.014081147448857837, 0.0027216174709211553, -0.0019573490391150087, 0.000353548897496356, 0.0002593994330126665, 0.0013588443949620068], [0.08449114512232236, 0.7163028954112034, 0.9754296661141268, 1.0, 0.9924153460872557, 0.8131413667468778, 0.8383308238469653, 0.850910971294533, 0.8405291139581371, 0.8122066582658742, 0.006736680177261563, 0.25744050707096583, 0.0029253654083339197, 0.0027279342258280438, 0.04440612670632255, -0.01546790911599909, 0.0028819640842587175, -0.0024812902258894397, 0.0012134858229915638, -0.00011690187163818848, 0.0009023914186871569], [0.08349569087651372, 0.7294638893487739, 0.9475098435475096, 0.9924153460872557, 1.0, 0.8386642451708493, 0.8750762872511778, 0.8923470869126293, 0.8828552472627264, 0.8177409815784191, 0.00681994878435735, 0.24707834096678166, 0.0028556085391659536, 0.002560472655339147, 0.04398479355488911, -0.016083702521005785, 0.003108785690043997, -0.002934651635048224, 0.001462306912356089, -0.00026357642947148194, 0.00046128572035067454], [0.19184680579075902, 0.6579679409170559, 0.7569057876712615, 0.8131413667468778, 0.8386642451708493, 1.0, 0.9202647221155872, 0.914759400160935, 0.9006657401878182, 0.7839391759467947, 0.0062973196214782135, 0.1479186815410381, -0.0017209575862353705, 0.0008490681999882289, 0.06063680563289921, -0.015177011656876791, 0.005281190277910073, -0.003728242267471125, -0.0014589563841371695, -0.0003742778777817262, -0.0010498466980745338], [0.18215610367729645, 0.6798423453394089, 0.7655368663636032, 0.8383308238469653, 0.8750762872511778, 0.9202647221155872, 1.0, 0.9861499690729393, 0.9674452786399333, 0.8019573604851827, 0.006384608474813099, 0.1634229266022791, -0.0014531681280934763, 0.0011648054225855639, 0.051073135449168305, -0.016069988439440012, 0.005159335051309468, -0.003992879154657121, -0.0014842807931012185, -0.0004774400276129935, -0.0013690307696479721], [0.21029093884242994, 0.6959454420964079, 0.7676890466517631, 0.850910971294533, 0.8923470869126293, 0.914759400160935, 0.9861499690729393, 1.0, 0.9906650729270341, 0.834219987082152, 0.005960571071937631, 0.16204406255316137, -0.0016946501923555967, 0.0009379393846178476, 0.04323821105517048, -0.01649329688158514, 0.004673964875177876, -0.004035259470449088, -0.0010020449143116645, -0.0004907498747406363, -0.0016738055587672957], [0.2330226299359722, 0.6890376495653453, 0.7547580703170055, 0.8405291139581371, 0.8828552472627264, 0.9006657401878182, 0.9674452786399333, 0.9906650729270341, 1.0, 0.8379206716512996, 0.005489865857551492, 0.15877117558592097, -0.0021524031614198426, 0.0005673215261889129, 0.038511136550398686, -0.016344822935955485, 0.004412874237390135, -0.003934031471617629, -0.0004542359874152444, -0.000498807043757953, -0.0017538499565450936], [0.5023634976360756, 0.6904451800318154, 0.7760735786245817, 0.8122066582658742, 0.8177409815784191, 0.7839391759467947, 0.8019573604851827, 0.834219987082152, 0.8379206716512996, 1.0, 0.005901080185664704, 0.18763853789522308, -0.009378170016526037, -0.0037306139046906816, 0.0429582473450073, -0.01950774058753085, 0.004037033359542177, -0.0025318589389102, -0.001776129889455094, 0.00151487566805755, -0.0006148610599045858], [0.0001514887361182468, 0.009631953593848821, 0.006805027917602791, 0.006736680177261563, 0.00681994878435735, 0.0062973196214782135, 0.006384608474813099, 0.005960571071937631, 0.005489865857551492, 0.005901080185664704, 1.0, 0.0018700321781195564, -0.001428666528892078, -0.0021344460792759577, 0.0034540899467588233, 0.00582301895436364, 0.011758320504379437, 0.008885098525747483, 0.0019065999479825212, -0.00034687457581566875, 0.009831441596407055], [0.01117587783223238, 0.11402197565866265, 0.25449943040066647, 0.25744050707096583, 0.24707834096678166, 0.1479186815410381, 0.1634229266022791, 0.16204406255316137, 0.15877117558592097, 0.18763853789522308, 0.0018700321781195564, 1.0, 0.0007450949930323642, 0.0006513549310572965, 0.016590155879682014, -0.0026895870770047422, 0.0007084065923495959, 0.0010789721426128695, -0.0006129392640792594, -4.465363104328732e-05, 0.0038896653366430577], [-0.03030215460173117, 0.001781107200812088, 0.002971374392306612, 0.0029253654083339197, 0.0028556085391659536, -0.0017209575862353705, -0.0014531681280934763, -0.0016946501923555967, -0.0021524031614198426, -0.009378170016526037, -0.001428666528892078, 0.0007450949930323642, 1.0, 0.8550681586344071, 0.00014155545573900577, -0.04145111148681446, 0.0015396520484407344, -0.03953459312828528, 0.0818587783332044, -0.007780929235628722, 0.0027053837358235575], [-0.023328978983456653, 0.0032249855452551766, 0.0029243551575048495, 0.0027279342258280438, 0.002560472655339147, 0.0008490681999882289, 0.0011648054225855639, 0.0009379393846178476, 0.0005673215261889129, -0.0037306139046906816, -0.0021344460792759577, 0.0006513549310572965, 0.8550681586344071, 1.0, 0.000714552154638494, -0.04003421734960717, 0.0012541724017334625, -0.0405696138416482, 0.07134003589977782, -0.00974281622396388, 0.003291127346268822], [0.006271372457629827, 0.03388581307840545, 0.047390539271320385, 0.04440612670632255, 0.04398479355488911, 0.06063680563289921, 0.051073135449168305, 0.04323821105517048, 0.038511136550398686, 0.0429582473450073, 0.0034540899467588233, 0.016590155879682014, 0.00014155545573900577, 0.000714552154638494, 1.0, -0.005627486635622701, 0.012754523168970149, -0.0024172574300269723, -0.0004999378931803859, -0.00023953117070242235, 0.006996707218269504], [-0.0046183213838845065, -0.017287853430700165, -0.014081147448857837, -0.01546790911599909, -0.016083702521005785, -0.015177011656876791, -0.016069988439440012, -0.01649329688158514, -0.016344822935955485, -0.01950774058753085, 0.00582301895436364, -0.0026895870770047422, -0.04145111148681446, -0.04003421734960717, -0.005627486635622701, 1.0, 0.00107679873314516, 0.03705128734209888, -0.20463681937823505, -0.0032636205822044527, -0.006757059629053975], [0.00020576700829322904, 0.0037029627949808977, 0.0027216174709211553, 0.0028819640842587175, 0.003108785690043997, 0.005281190277910073, 0.005159335051309468, 0.004673964875177876, 0.004412874237390135, 0.004037033359542177, 0.011758320504379437, 0.0007084065923495959, 0.0015396520484407344, 0.0012541724017334625, 0.012754523168970149, 0.00107679873314516, 1.0, 0.003690071780653311, 0.0023288620934120317, -0.0002134317344896009, 0.001655403053980639], [-0.00045118241969788414, -0.002791629220584072, -0.0019573490391150087, -0.0024812902258894397, -0.002934651635048224, -0.003728242267471125, -0.003992879154657121, -0.004035259470449088, -0.003934031471617629, -0.0025318589389102, 0.008885098525747483, 0.0010789721426128695, -0.03953459312828528, -0.0405696138416482, -0.0024172574300269723, 0.03705128734209888, 0.003690071780653311, 1.0, -0.023012695877363907, 0.029445378029761562, 0.0068397570178428384], [-0.0020046140858413592, 0.0027701368144623455, 0.000353548897496356, 0.0012134858229915638, 0.001462306912356089, -0.0014589563841371695, -0.0014842807931012185, -0.0010020449143116645, -0.0004542359874152444, -0.001776129889455094, 0.0019065999479825212, -0.0006129392640792594, 0.0818587783332044, 0.07134003589977782, -0.0004999378931803859, -0.20463681937823505, 0.0023288620934120317, -0.023012695877363907, 1.0, -0.0761494228922059, -0.002886206368359451], [9.762679562096289e-05, 0.004448211646881834, 0.0002593994330126665, -0.00011690187163818848, -0.00026357642947148194, -0.0003742778777817262, -0.0004774400276129935, -0.0004907498747406363, -0.000498807043757953, 0.00151487566805755, -0.00034687457581566875, -4.465363104328732e-05, -0.007780929235628722, -0.00974281622396388, -0.00023953117070242235, -0.0032636205822044527, -0.0002134317344896009, 0.029445378029761562, -0.0761494228922059, 1.0, 0.00728568162160639], [-0.001290409574430533, -0.0030562122061972437, 0.0013588443949620068, 0.0009023914186871569, 0.00046128572035067454, -0.0010498466980745338, -0.0013690307696479721, -0.0016738055587672957, -0.0017538499565450936, -0.0006148610599045858, 0.009831441596407055, 0.0038896653366430577, 0.0027053837358235575, 0.003291127346268822, 0.006996707218269504, -0.006757059629053975, 0.001655403053980639, 0.0068397570178428384, -0.002886206368359451, 0.00728568162160639, 1.0]]}],                        {\"template\": {\"data\": {\"bar\": [{\"error_x\": {\"color\": \"#2a3f5f\"}, \"error_y\": {\"color\": \"#2a3f5f\"}, \"marker\": {\"line\": {\"color\": \"#E5ECF6\", \"width\": 0.5}}, \"type\": \"bar\"}], \"barpolar\": [{\"marker\": {\"line\": {\"color\": \"#E5ECF6\", \"width\": 0.5}}, \"type\": \"barpolar\"}], \"carpet\": [{\"aaxis\": {\"endlinecolor\": \"#2a3f5f\", \"gridcolor\": \"white\", \"linecolor\": \"white\", \"minorgridcolor\": \"white\", \"startlinecolor\": \"#2a3f5f\"}, \"baxis\": {\"endlinecolor\": \"#2a3f5f\", \"gridcolor\": \"white\", \"linecolor\": \"white\", \"minorgridcolor\": \"white\", \"startlinecolor\": \"#2a3f5f\"}, \"type\": \"carpet\"}], \"choropleth\": [{\"colorbar\": {\"outlinewidth\": 0, \"ticks\": \"\"}, \"type\": \"choropleth\"}], \"contour\": [{\"colorbar\": {\"outlinewidth\": 0, \"ticks\": \"\"}, \"colorscale\": [[0.0, \"#0d0887\"], [0.1111111111111111, \"#46039f\"], [0.2222222222222222, \"#7201a8\"], [0.3333333333333333, \"#9c179e\"], [0.4444444444444444, \"#bd3786\"], [0.5555555555555556, \"#d8576b\"], [0.6666666666666666, \"#ed7953\"], [0.7777777777777778, \"#fb9f3a\"], [0.8888888888888888, \"#fdca26\"], [1.0, \"#f0f921\"]], \"type\": \"contour\"}], \"contourcarpet\": [{\"colorbar\": {\"outlinewidth\": 0, \"ticks\": \"\"}, \"type\": \"contourcarpet\"}], \"heatmap\": [{\"colorbar\": {\"outlinewidth\": 0, \"ticks\": \"\"}, \"colorscale\": [[0.0, \"#0d0887\"], [0.1111111111111111, \"#46039f\"], [0.2222222222222222, \"#7201a8\"], [0.3333333333333333, \"#9c179e\"], [0.4444444444444444, \"#bd3786\"], [0.5555555555555556, \"#d8576b\"], [0.6666666666666666, \"#ed7953\"], [0.7777777777777778, \"#fb9f3a\"], [0.8888888888888888, \"#fdca26\"], [1.0, \"#f0f921\"]], \"type\": \"heatmap\"}], \"heatmapgl\": [{\"colorbar\": {\"outlinewidth\": 0, \"ticks\": \"\"}, \"colorscale\": [[0.0, \"#0d0887\"], [0.1111111111111111, \"#46039f\"], [0.2222222222222222, \"#7201a8\"], [0.3333333333333333, \"#9c179e\"], [0.4444444444444444, \"#bd3786\"], [0.5555555555555556, \"#d8576b\"], [0.6666666666666666, \"#ed7953\"], [0.7777777777777778, \"#fb9f3a\"], [0.8888888888888888, \"#fdca26\"], [1.0, \"#f0f921\"]], \"type\": \"heatmapgl\"}], \"histogram\": [{\"marker\": {\"colorbar\": {\"outlinewidth\": 0, \"ticks\": \"\"}}, \"type\": \"histogram\"}], \"histogram2d\": [{\"colorbar\": {\"outlinewidth\": 0, \"ticks\": \"\"}, \"colorscale\": [[0.0, \"#0d0887\"], [0.1111111111111111, \"#46039f\"], [0.2222222222222222, \"#7201a8\"], [0.3333333333333333, \"#9c179e\"], [0.4444444444444444, \"#bd3786\"], [0.5555555555555556, \"#d8576b\"], [0.6666666666666666, \"#ed7953\"], [0.7777777777777778, \"#fb9f3a\"], [0.8888888888888888, \"#fdca26\"], [1.0, \"#f0f921\"]], \"type\": \"histogram2d\"}], \"histogram2dcontour\": [{\"colorbar\": {\"outlinewidth\": 0, \"ticks\": \"\"}, \"colorscale\": [[0.0, \"#0d0887\"], [0.1111111111111111, \"#46039f\"], [0.2222222222222222, \"#7201a8\"], [0.3333333333333333, \"#9c179e\"], [0.4444444444444444, \"#bd3786\"], [0.5555555555555556, \"#d8576b\"], [0.6666666666666666, \"#ed7953\"], [0.7777777777777778, \"#fb9f3a\"], [0.8888888888888888, \"#fdca26\"], [1.0, \"#f0f921\"]], \"type\": \"histogram2dcontour\"}], \"mesh3d\": [{\"colorbar\": {\"outlinewidth\": 0, \"ticks\": \"\"}, \"type\": \"mesh3d\"}], \"parcoords\": [{\"line\": {\"colorbar\": {\"outlinewidth\": 0, \"ticks\": \"\"}}, \"type\": \"parcoords\"}], \"pie\": [{\"automargin\": true, \"type\": \"pie\"}], \"scatter\": [{\"marker\": {\"colorbar\": {\"outlinewidth\": 0, \"ticks\": \"\"}}, \"type\": \"scatter\"}], \"scatter3d\": [{\"line\": {\"colorbar\": {\"outlinewidth\": 0, \"ticks\": \"\"}}, \"marker\": {\"colorbar\": {\"outlinewidth\": 0, \"ticks\": \"\"}}, \"type\": \"scatter3d\"}], \"scattercarpet\": [{\"marker\": {\"colorbar\": {\"outlinewidth\": 0, \"ticks\": \"\"}}, \"type\": \"scattercarpet\"}], \"scattergeo\": [{\"marker\": {\"colorbar\": {\"outlinewidth\": 0, \"ticks\": \"\"}}, \"type\": \"scattergeo\"}], \"scattergl\": [{\"marker\": {\"colorbar\": {\"outlinewidth\": 0, \"ticks\": \"\"}}, \"type\": \"scattergl\"}], \"scattermapbox\": [{\"marker\": {\"colorbar\": {\"outlinewidth\": 0, \"ticks\": \"\"}}, \"type\": \"scattermapbox\"}], \"scatterpolar\": [{\"marker\": {\"colorbar\": {\"outlinewidth\": 0, \"ticks\": \"\"}}, \"type\": \"scatterpolar\"}], \"scatterpolargl\": [{\"marker\": {\"colorbar\": {\"outlinewidth\": 0, \"ticks\": \"\"}}, \"type\": \"scatterpolargl\"}], \"scatterternary\": [{\"marker\": {\"colorbar\": {\"outlinewidth\": 0, \"ticks\": \"\"}}, \"type\": \"scatterternary\"}], \"surface\": [{\"colorbar\": {\"outlinewidth\": 0, \"ticks\": \"\"}, \"colorscale\": [[0.0, \"#0d0887\"], [0.1111111111111111, \"#46039f\"], [0.2222222222222222, \"#7201a8\"], [0.3333333333333333, \"#9c179e\"], [0.4444444444444444, \"#bd3786\"], [0.5555555555555556, \"#d8576b\"], [0.6666666666666666, \"#ed7953\"], [0.7777777777777778, \"#fb9f3a\"], [0.8888888888888888, \"#fdca26\"], [1.0, \"#f0f921\"]], \"type\": \"surface\"}], \"table\": [{\"cells\": {\"fill\": {\"color\": \"#EBF0F8\"}, \"line\": {\"color\": \"white\"}}, \"header\": {\"fill\": {\"color\": \"#C8D4E3\"}, \"line\": {\"color\": \"white\"}}, \"type\": \"table\"}]}, \"layout\": {\"annotationdefaults\": {\"arrowcolor\": \"#2a3f5f\", \"arrowhead\": 0, \"arrowwidth\": 1}, \"autotypenumbers\": \"strict\", \"coloraxis\": {\"colorbar\": {\"outlinewidth\": 0, \"ticks\": \"\"}}, \"colorscale\": {\"diverging\": [[0, \"#8e0152\"], [0.1, \"#c51b7d\"], [0.2, \"#de77ae\"], [0.3, \"#f1b6da\"], [0.4, \"#fde0ef\"], [0.5, \"#f7f7f7\"], [0.6, \"#e6f5d0\"], [0.7, \"#b8e186\"], [0.8, \"#7fbc41\"], [0.9, \"#4d9221\"], [1, \"#276419\"]], \"sequential\": [[0.0, \"#0d0887\"], [0.1111111111111111, \"#46039f\"], [0.2222222222222222, \"#7201a8\"], [0.3333333333333333, \"#9c179e\"], [0.4444444444444444, \"#bd3786\"], [0.5555555555555556, \"#d8576b\"], [0.6666666666666666, \"#ed7953\"], [0.7777777777777778, \"#fb9f3a\"], [0.8888888888888888, \"#fdca26\"], [1.0, \"#f0f921\"]], \"sequentialminus\": [[0.0, \"#0d0887\"], [0.1111111111111111, \"#46039f\"], [0.2222222222222222, \"#7201a8\"], [0.3333333333333333, \"#9c179e\"], [0.4444444444444444, \"#bd3786\"], [0.5555555555555556, \"#d8576b\"], [0.6666666666666666, \"#ed7953\"], [0.7777777777777778, \"#fb9f3a\"], [0.8888888888888888, \"#fdca26\"], [1.0, \"#f0f921\"]]}, \"colorway\": [\"#636efa\", \"#EF553B\", \"#00cc96\", \"#ab63fa\", \"#FFA15A\", \"#19d3f3\", \"#FF6692\", \"#B6E880\", \"#FF97FF\", \"#FECB52\"], \"font\": {\"color\": \"#2a3f5f\"}, \"geo\": {\"bgcolor\": \"white\", \"lakecolor\": \"white\", \"landcolor\": \"#E5ECF6\", \"showlakes\": true, \"showland\": true, \"subunitcolor\": \"white\"}, \"hoverlabel\": {\"align\": \"left\"}, \"hovermode\": \"closest\", \"mapbox\": {\"style\": \"light\"}, \"paper_bgcolor\": \"white\", \"plot_bgcolor\": \"#E5ECF6\", \"polar\": {\"angularaxis\": {\"gridcolor\": \"white\", \"linecolor\": \"white\", \"ticks\": \"\"}, \"bgcolor\": \"#E5ECF6\", \"radialaxis\": {\"gridcolor\": \"white\", \"linecolor\": \"white\", \"ticks\": \"\"}}, \"scene\": {\"xaxis\": {\"backgroundcolor\": \"#E5ECF6\", \"gridcolor\": \"white\", \"gridwidth\": 2, \"linecolor\": \"white\", \"showbackground\": true, \"ticks\": \"\", \"zerolinecolor\": \"white\"}, \"yaxis\": {\"backgroundcolor\": \"#E5ECF6\", \"gridcolor\": \"white\", \"gridwidth\": 2, \"linecolor\": \"white\", \"showbackground\": true, \"ticks\": \"\", \"zerolinecolor\": \"white\"}, \"zaxis\": {\"backgroundcolor\": \"#E5ECF6\", \"gridcolor\": \"white\", \"gridwidth\": 2, \"linecolor\": \"white\", \"showbackground\": true, \"ticks\": \"\", \"zerolinecolor\": \"white\"}}, \"shapedefaults\": {\"line\": {\"color\": \"#2a3f5f\"}}, \"ternary\": {\"aaxis\": {\"gridcolor\": \"white\", \"linecolor\": \"white\", \"ticks\": \"\"}, \"baxis\": {\"gridcolor\": \"white\", \"linecolor\": \"white\", \"ticks\": \"\"}, \"bgcolor\": \"#E5ECF6\", \"caxis\": {\"gridcolor\": \"white\", \"linecolor\": \"white\", \"ticks\": \"\"}}, \"title\": {\"x\": 0.05}, \"xaxis\": {\"automargin\": true, \"gridcolor\": \"white\", \"linecolor\": \"white\", \"ticks\": \"\", \"title\": {\"standoff\": 15}, \"zerolinecolor\": \"white\", \"zerolinewidth\": 2}, \"yaxis\": {\"automargin\": true, \"gridcolor\": \"white\", \"linecolor\": \"white\", \"ticks\": \"\", \"title\": {\"standoff\": 15}, \"zerolinecolor\": \"white\", \"zerolinewidth\": 2}}}},                        {\"responsive\": true}                    ).then(function(){\n",
       "                            \n",
       "var gd = document.getElementById('817e309d-3b6c-47a9-ba7f-c49061d13b4b');\n",
       "var x = new MutationObserver(function (mutations, observer) {{\n",
       "        var display = window.getComputedStyle(gd).display;\n",
       "        if (!display || display === 'none') {{\n",
       "            console.log([gd, 'removed!']);\n",
       "            Plotly.purge(gd);\n",
       "            observer.disconnect();\n",
       "        }}\n",
       "}});\n",
       "\n",
       "// Listen for the removal of the full notebook cells\n",
       "var notebookContainer = gd.closest('#notebook-container');\n",
       "if (notebookContainer) {{\n",
       "    x.observe(notebookContainer, {childList: true});\n",
       "}}\n",
       "\n",
       "// Listen for the clearing of the current output cell\n",
       "var outputEl = gd.closest('.output');\n",
       "if (outputEl) {{\n",
       "    x.observe(outputEl, {childList: true});\n",
       "}}\n",
       "\n",
       "                        })                };                });            </script>        </div>"
      ]
     },
     "metadata": {},
     "output_type": "display_data"
    }
   ],
   "source": [
    "#interactive heat map\n",
    "import plotly.offline as py\n",
    "py.init_notebook_mode(connected=True)\n",
    "import plotly.graph_objs as go\n",
    "\n",
    "a=[column for column in df_train]\n",
    "trace = go.Heatmap(z=df_train.corr().values,\n",
    "                   x=a,\n",
    "                   y=a)\n",
    "data=[trace]\n",
    "py.iplot(data, filename='backorders heatmap')"
   ]
  },
  {
   "cell_type": "markdown",
   "metadata": {},
   "source": [
    "# correlation matrix\n",
    "The correlation matrix shows that the quantity in transit, the forecast sales over 3/6/9 months, the actual sales over the previous 1/3/6/9 months, and minimum recommended stock level are highly correlated. This is not surprising because if an item had high real sales over the last 1/3/6/9 months, then it is reasonable for the forecast sales over the next 3/6/9 months to also be high. If forecast sales are high, then it would be useful to have more of the stock in hand and to have more shipped in.\n",
    "\n",
    "Besides that, the average performance over the last 6 months strongly correlates with that over the last 12 months.\n",
    "\n",
    "Overall, the correlation matrix suggests that the number of features used for predicting whether an item goes on back order can be lower than the number of features in the dataset. In other words, the dimensionality of the problem may be reduced."
   ]
  },
  {
   "cell_type": "code",
   "execution_count": 23,
   "metadata": {},
   "outputs": [
    {
     "data": {
      "text/plain": [
       "<seaborn.axisgrid.PairGrid at 0x29990460580>"
      ]
     },
     "execution_count": 23,
     "metadata": {},
     "output_type": "execute_result"
    },
    {
     "data": {
      "image/png": "[encoded data removed]",
      "text/plain": [
       "<Figure size 752.75x648 with 12 Axes>"
      ]
     },
     "metadata": {
      "needs_background": "light"
     },
     "output_type": "display_data"
    }
   ],
   "source": [
    "\n",
    "# Forecast columns\n",
    "forecasts = ['forecast_3_month','forecast_6_month', 'forecast_9_month']\n",
    "\n",
    "# Pair-wise scatter plot for the forecasts\n",
    "sns.pairplot(df_train, vars=forecasts, hue='went_on_backorder', size=3)\n",
    "\n",
    "# Show the plot\n",
    "plt.show()"
   ]
  },
  {
   "cell_type": "markdown",
   "metadata": {},
   "source": [
    "## Notes on the forecasts' pair-wise scatter plots\n",
    "The forecast values over each time frame have very close linear correlation with each other, as expected from the correlation matrix. The forecast values cover a wide range from 0 to over 1 million. Backorders only occur when the forecast value is low"
   ]
  },
  {
   "cell_type": "code",
   "execution_count": 24,
   "metadata": {},
   "outputs": [],
   "source": [
    "#Separate data by going on backorder or not\n",
    "no_back = df_train[df_train['went_on_backorder'] == 0]       \n",
    "yes_back = df_train[df_train['went_on_backorder'] == 1]\n",
    "sales = ['sales_1_month', 'sales_3_month', 'sales_6_month', 'sales_9_month']"
   ]
  },
  {
   "cell_type": "code",
   "execution_count": 25,
   "metadata": {},
   "outputs": [
    {
     "data": {
      "text/plain": [
       "<matplotlib.axes._subplots.AxesSubplot at 0x299ab6d4550>"
      ]
     },
     "execution_count": 25,
     "metadata": {},
     "output_type": "execute_result"
    },
    {
     "data": {
      "text/plain": [
       "<matplotlib.axes._subplots.AxesSubplot at 0x299ab6d4550>"
      ]
     },
     "execution_count": 25,
     "metadata": {},
     "output_type": "execute_result"
    },
    {
     "data": {
      "text/plain": [
       "<matplotlib.axes._subplots.AxesSubplot at 0x299aba9c910>"
      ]
     },
     "execution_count": 25,
     "metadata": {},
     "output_type": "execute_result"
    },
    {
     "data": {
      "text/plain": [
       "<matplotlib.axes._subplots.AxesSubplot at 0x299aba9c910>"
      ]
     },
     "execution_count": 25,
     "metadata": {},
     "output_type": "execute_result"
    },
    {
     "data": {
      "text/plain": [
       "<matplotlib.axes._subplots.AxesSubplot at 0x299abad1dc0>"
      ]
     },
     "execution_count": 25,
     "metadata": {},
     "output_type": "execute_result"
    },
    {
     "data": {
      "text/plain": [
       "<matplotlib.axes._subplots.AxesSubplot at 0x299abad1dc0>"
      ]
     },
     "execution_count": 25,
     "metadata": {},
     "output_type": "execute_result"
    },
    {
     "data": {
      "text/plain": [
       "<matplotlib.axes._subplots.AxesSubplot at 0x299abafcee0>"
      ]
     },
     "execution_count": 25,
     "metadata": {},
     "output_type": "execute_result"
    },
    {
     "data": {
      "text/plain": [
       "<matplotlib.axes._subplots.AxesSubplot at 0x299abafcee0>"
      ]
     },
     "execution_count": 25,
     "metadata": {},
     "output_type": "execute_result"
    },
    {
     "data": {
      "image/png": "[encoded data removed]",
      "text/plain": [
       "<Figure size 432x432 with 1 Axes>"
      ]
     },
     "metadata": {
      "needs_background": "light"
     },
     "output_type": "display_data"
    },
    {
     "data": {
      "image/png": "[encoded data removed]",
      "text/plain": [
       "<Figure size 432x432 with 1 Axes>"
      ]
     },
     "metadata": {
      "needs_background": "light"
     },
     "output_type": "display_data"
    },
    {
     "data": {
      "image/png": "[encoded data removed]",
      "text/plain": [
       "<Figure size 432x432 with 1 Axes>"
      ]
     },
     "metadata": {
      "needs_background": "light"
     },
     "output_type": "display_data"
    },
    {
     "data": {
      "image/png": "[encoded data removed]",
      "text/plain": [
       "<Figure size 432x432 with 1 Axes>"
      ]
     },
     "metadata": {
      "needs_background": "light"
     },
     "output_type": "display_data"
    }
   ],
   "source": [
    "for col in sales:\n",
    "    fig = plt.figure(figsize=(6, 6))\n",
    "    ax = fig.gca()\n",
    "    no_back.plot(kind='scatter', x=col, y='forecast_3_month', ax=ax, color='DarkBlue', legend=True)\n",
    "    yes_back.plot(kind='scatter', x=col, y='forecast_3_month', ax=ax, color='Red')"
   ]
  },
  {
   "cell_type": "code",
   "execution_count": 26,
   "metadata": {},
   "outputs": [
    {
     "data": {
      "text/plain": [
       "<Figure size 432x288 with 0 Axes>"
      ]
     },
     "execution_count": 26,
     "metadata": {},
     "output_type": "execute_result"
    },
    {
     "data": {
      "text/plain": [
       "<matplotlib.axes._subplots.AxesSubplot at 0x299ac0dcd90>"
      ]
     },
     "execution_count": 26,
     "metadata": {},
     "output_type": "execute_result"
    },
    {
     "data": {
      "text/plain": [
       "Text(0, 0.5, 'Count')"
      ]
     },
     "execution_count": 26,
     "metadata": {},
     "output_type": "execute_result"
    },
    {
     "data": {
      "text/plain": [
       "Text(0.5, 1.0, 'Went on backorder? (0=No, 1=Yes)')"
      ]
     },
     "execution_count": 26,
     "metadata": {},
     "output_type": "execute_result"
    },
    {
     "data": {
      "image/png": "[encoded data removed]",
      "text/plain": [
       "<Figure size 432x288 with 1 Axes>"
      ]
     },
     "metadata": {
      "needs_background": "light"
     },
     "output_type": "display_data"
    }
   ],
   "source": [
    "plt.figure()\n",
    "df_train['went_on_backorder'].value_counts().plot(kind = 'bar')\n",
    "plt.ylabel(\"Count\")\n",
    "plt.title('Went on backorder? (0=No, 1=Yes)')"
   ]
  },
  {
   "cell_type": "code",
   "execution_count": 27,
   "metadata": {},
   "outputs": [
    {
     "name": "stdout",
     "output_type": "stream",
     "text": [
      "Requirement already satisfied: imbalanced-learn in c:\\users\\muskan\\anaconda3\\lib\\site-packages (0.8.0)\n",
      "Requirement already satisfied: scipy>=0.19.1 in c:\\users\\muskan\\anaconda3\\lib\\site-packages (from imbalanced-learn) (1.5.0)\n",
      "Requirement already satisfied: numpy>=1.13.3 in c:\\users\\muskan\\anaconda3\\lib\\site-packages (from imbalanced-learn) (1.19.5)\n",
      "Requirement already satisfied: scikit-learn>=0.24 in c:\\users\\muskan\\anaconda3\\lib\\site-packages (from imbalanced-learn) (0.24.2)\n",
      "Requirement already satisfied: joblib>=0.11 in c:\\users\\muskan\\anaconda3\\lib\\site-packages (from imbalanced-learn) (0.16.0)\n",
      "Requirement already satisfied: threadpoolctl>=2.0.0 in c:\\users\\muskan\\anaconda3\\lib\\site-packages (from scikit-learn>=0.24->imbalanced-learn) (2.1.0)\n",
      "Note: you may need to restart the kernel to use updated packages.\n"
     ]
    }
   ],
   "source": [
    "pip install imbalanced-learn"
   ]
  },
  {
   "cell_type": "code",
   "execution_count": 28,
   "metadata": {},
   "outputs": [],
   "source": [
    "import imblearn"
   ]
  },
  {
   "cell_type": "code",
   "execution_count": 29,
   "metadata": {},
   "outputs": [],
   "source": [
    "from sklearn.model_selection import train_test_split\n",
    "from sklearn.ensemble import RandomForestClassifier\n",
    "from sklearn.metrics import classification_report, confusion_matrix, accuracy_score, roc_auc_score, roc_curve, auc, precision_recall_curve"
   ]
  },
  {
   "cell_type": "code",
   "execution_count": 30,
   "metadata": {},
   "outputs": [],
   "source": [
    "x= df_train.drop(['went_on_backorder'], axis = 1)\n",
    "y = df_train['went_on_backorder']"
   ]
  },
  {
   "cell_type": "code",
   "execution_count": 31,
   "metadata": {},
   "outputs": [],
   "source": [
    "x_train, x_test, y_train, y_test = train_test_split(x, y, test_size = 0.1, random_state = 0)"
   ]
  },
  {
   "cell_type": "code",
   "execution_count": 32,
   "metadata": {},
   "outputs": [],
   "source": [
    "from imblearn.over_sampling import SMOTE\n",
    "oversampler = SMOTE(random_state = 0)\n",
    "x_train, y_train = oversampler.fit_resample(x_train, y_train)"
   ]
  },
  {
   "cell_type": "code",
   "execution_count": 33,
   "metadata": {},
   "outputs": [
    {
     "data": {
      "text/plain": [
       "<Figure size 432x288 with 0 Axes>"
      ]
     },
     "execution_count": 33,
     "metadata": {},
     "output_type": "execute_result"
    },
    {
     "data": {
      "text/plain": [
       "<matplotlib.axes._subplots.AxesSubplot at 0x299ac8ae5b0>"
      ]
     },
     "execution_count": 33,
     "metadata": {},
     "output_type": "execute_result"
    },
    {
     "data": {
      "text/plain": [
       "Text(0, 0.5, 'Count')"
      ]
     },
     "execution_count": 33,
     "metadata": {},
     "output_type": "execute_result"
    },
    {
     "data": {
      "text/plain": [
       "Text(0.5, 1.0, 'Went on backorder? (0=No, 1=Yes)')"
      ]
     },
     "execution_count": 33,
     "metadata": {},
     "output_type": "execute_result"
    },
    {
     "data": {
      "image/png": "[encoded data removed]",
      "text/plain": [
       "<Figure size 432x288 with 1 Axes>"
      ]
     },
     "metadata": {
      "needs_background": "light"
     },
     "output_type": "display_data"
    }
   ],
   "source": [
    "plt.figure()\n",
    "Series(y_train).value_counts().sort_index().plot(kind = 'bar')\n",
    "plt.ylabel(\"Count\")\n",
    "plt.title('Went on backorder? (0=No, 1=Yes)')"
   ]
  },
  {
   "cell_type": "code",
   "execution_count": 34,
   "metadata": {},
   "outputs": [
    {
     "data": {
      "text/plain": [
       "RandomForestClassifier()"
      ]
     },
     "execution_count": 34,
     "metadata": {},
     "output_type": "execute_result"
    }
   ],
   "source": [
    "RF = RandomForestClassifier()\n",
    "RF.fit(x_train, y_train)"
   ]
  },
  {
   "cell_type": "code",
   "execution_count": 35,
   "metadata": {},
   "outputs": [
    {
     "data": {
      "text/plain": [
       "<Figure size 360x504 with 0 Axes>"
      ]
     },
     "execution_count": 35,
     "metadata": {},
     "output_type": "execute_result"
    },
    {
     "data": {
      "text/plain": [
       "<BarContainer object of 20 artists>"
      ]
     },
     "execution_count": 35,
     "metadata": {},
     "output_type": "execute_result"
    },
    {
     "data": {
      "text/plain": [
       "([<matplotlib.axis.YTick at 0x299ac938760>,\n",
       "  <matplotlib.axis.YTick at 0x299ac903a90>,\n",
       "  <matplotlib.axis.YTick at 0x299ac934520>,\n",
       "  <matplotlib.axis.YTick at 0x299ac9ff0d0>,\n",
       "  <matplotlib.axis.YTick at 0x299ac9ff460>,\n",
       "  <matplotlib.axis.YTick at 0x299ac9ff940>,\n",
       "  <matplotlib.axis.YTick at 0x299ac9ffe50>,\n",
       "  <matplotlib.axis.YTick at 0x299aca033a0>,\n",
       "  <matplotlib.axis.YTick at 0x299aca038b0>,\n",
       "  <matplotlib.axis.YTick at 0x299aca03dc0>,\n",
       "  <matplotlib.axis.YTick at 0x299aca08310>,\n",
       "  <matplotlib.axis.YTick at 0x299aca08820>,\n",
       "  <matplotlib.axis.YTick at 0x299aca08d30>,\n",
       "  <matplotlib.axis.YTick at 0x299aca0e280>,\n",
       "  <matplotlib.axis.YTick at 0x299aca08a00>,\n",
       "  <matplotlib.axis.YTick at 0x299aca03a90>,\n",
       "  <matplotlib.axis.YTick at 0x299ac9ffb20>,\n",
       "  <matplotlib.axis.YTick at 0x299aca0e790>,\n",
       "  <matplotlib.axis.YTick at 0x299aca0eca0>,\n",
       "  <matplotlib.axis.YTick at 0x299aca151f0>],\n",
       " [Text(0, 0, 'oe_constraint'),\n",
       "  Text(0, 0, 'potential_issue'),\n",
       "  Text(0, 0, 'rev_stop'),\n",
       "  Text(0, 0, 'stop_auto_buy'),\n",
       "  Text(0, 0, 'pieces_past_due'),\n",
       "  Text(0, 0, 'ppap_risk'),\n",
       "  Text(0, 0, 'deck_risk'),\n",
       "  Text(0, 0, 'local_bo_qty'),\n",
       "  Text(0, 0, 'min_bank'),\n",
       "  Text(0, 0, 'sales_1_month'),\n",
       "  Text(0, 0, 'in_transit_qty'),\n",
       "  Text(0, 0, 'sales_3_month'),\n",
       "  Text(0, 0, 'sales_6_month'),\n",
       "  Text(0, 0, 'sales_9_month'),\n",
       "  Text(0, 0, 'perf_12_month_avg'),\n",
       "  Text(0, 0, 'perf_6_month_avg'),\n",
       "  Text(0, 0, 'forecast_9_month'),\n",
       "  Text(0, 0, 'forecast_6_month'),\n",
       "  Text(0, 0, 'forecast_3_month'),\n",
       "  Text(0, 0, 'national_inv')])"
      ]
     },
     "execution_count": 35,
     "metadata": {},
     "output_type": "execute_result"
    },
    {
     "data": {
      "text/plain": [
       "Text(0.5, 0, 'Importance')"
      ]
     },
     "execution_count": 35,
     "metadata": {},
     "output_type": "execute_result"
    },
    {
     "data": {
      "text/plain": [
       "Text(0.5, 1.0, 'Feature importances')"
      ]
     },
     "execution_count": 35,
     "metadata": {},
     "output_type": "execute_result"
    },
    {
     "data": {
      "image/png": "[encoded data removed]",
      "text/plain": [
       "<Figure size 360x504 with 1 Axes>"
      ]
     },
     "metadata": {
      "needs_background": "light"
     },
     "output_type": "display_data"
    }
   ],
   "source": [
    "features_list = df_train.columns.values\n",
    "feature_importance = RF.feature_importances_\n",
    "sorted_idx = np.argsort(feature_importance)[:20]\n",
    " \n",
    "plt.figure(figsize=(5,7))\n",
    "plt.barh(range(len(sorted_idx)), feature_importance[sorted_idx], align='center')\n",
    "plt.yticks(range(len(sorted_idx)), features_list[sorted_idx])\n",
    "plt.xlabel('Importance')\n",
    "plt.title('Feature importances')\n",
    "plt.draw()\n",
    "plt.show()"
   ]
  },
  {
   "cell_type": "code",
   "execution_count": 36,
   "metadata": {},
   "outputs": [],
   "source": [
    "y_pred = RF.predict(x_test)"
   ]
  },
  {
   "cell_type": "code",
   "execution_count": 37,
   "metadata": {},
   "outputs": [
    {
     "name": "stdout",
     "output_type": "stream",
     "text": [
      "Random Forest Classifier report \n",
      "               precision    recall  f1-score   support\n",
      "\n",
      "           0       1.00      0.99      1.00    158089\n",
      "           1       0.38      0.63      0.48      1083\n",
      "\n",
      "    accuracy                           0.99    159172\n",
      "   macro avg       0.69      0.81      0.74    159172\n",
      "weighted avg       0.99      0.99      0.99    159172\n",
      "\n"
     ]
    }
   ],
   "source": [
    "print(\"Random Forest Classifier report \\n\", classification_report(y_test, y_pred))"
   ]
  },
  {
   "cell_type": "code",
   "execution_count": 38,
   "metadata": {},
   "outputs": [
    {
     "data": {
      "text/plain": [
       "array([[157004,   1085],\n",
       "       [   406,    677]], dtype=int64)"
      ]
     },
     "execution_count": 38,
     "metadata": {},
     "output_type": "execute_result"
    }
   ],
   "source": [
    "cm = confusion_matrix(y_test, y_pred)\n",
    "cm"
   ]
  },
  {
   "cell_type": "markdown",
   "metadata": {},
   "source": [
    "# Test Data "
   ]
  },
  {
   "cell_type": "code",
   "execution_count": 39,
   "metadata": {},
   "outputs": [],
   "source": [
    "#hot encoding\n",
    "from sklearn.preprocessing import LabelEncoder\n",
    "le = LabelEncoder()\n",
    "for col in ob:\n",
    "    df_test[col]= le.fit_transform(df_test[col])\n",
    "# No = 0 , Yes = 1"
   ]
  },
  {
   "cell_type": "code",
   "execution_count": 40,
   "metadata": {},
   "outputs": [],
   "source": [
    "X = df_test.drop(['went_on_backorder'], axis = 1)\n",
    "Y = df_test['went_on_backorder']"
   ]
  },
  {
   "cell_type": "code",
   "execution_count": 41,
   "metadata": {},
   "outputs": [],
   "source": [
    "X_train, X_test, Y_train, Y_test = train_test_split(X, Y, test_size = 0.1, random_state = 0)"
   ]
  },
  {
   "cell_type": "code",
   "execution_count": 42,
   "metadata": {},
   "outputs": [
    {
     "data": {
      "text/plain": [
       "RandomForestClassifier()"
      ]
     },
     "execution_count": 42,
     "metadata": {},
     "output_type": "execute_result"
    }
   ],
   "source": [
    "RF = RandomForestClassifier()\n",
    "RF.fit(X, Y)"
   ]
  },
  {
   "cell_type": "code",
   "execution_count": 43,
   "metadata": {},
   "outputs": [],
   "source": [
    "Y_pred = RF.predict(X_test)"
   ]
  },
  {
   "cell_type": "code",
   "execution_count": 44,
   "metadata": {},
   "outputs": [
    {
     "name": "stdout",
     "output_type": "stream",
     "text": [
      "Random Forest Classifier report \n",
      "               precision    recall  f1-score   support\n",
      "\n",
      "           0       1.00      1.00      1.00     22521\n",
      "           1       1.00      0.95      0.97       228\n",
      "\n",
      "    accuracy                           1.00     22749\n",
      "   macro avg       1.00      0.98      0.99     22749\n",
      "weighted avg       1.00      1.00      1.00     22749\n",
      "\n"
     ]
    }
   ],
   "source": [
    "print(\"Random Forest Classifier report \\n\", classification_report(Y_test, Y_pred))"
   ]
  },
  {
   "cell_type": "code",
   "execution_count": 45,
   "metadata": {},
   "outputs": [
    {
     "data": {
      "text/plain": [
       "array([[22520,     1],\n",
       "       [   11,   217]], dtype=int64)"
      ]
     },
     "execution_count": 45,
     "metadata": {},
     "output_type": "execute_result"
    }
   ],
   "source": [
    "cm = confusion_matrix(Y_test, Y_pred)\n",
    "cm"
   ]
  },
  {
   "cell_type": "code",
   "execution_count": 46,
   "metadata": {
    "colab": {
     "base_uri": "https://localhost:8080/"
    },
    "id": "Ps2aoKFG-Y5H",
    "outputId": "fa05baf5-7901-4854-d7d5-df6bb32fc2c5"
   },
   "outputs": [
    {
     "data": {
      "text/plain": [
       "0.9994725042859027"
      ]
     },
     "execution_count": 46,
     "metadata": {},
     "output_type": "execute_result"
    }
   ],
   "source": [
    "RF.score(X_test,Y_test)"
   ]
  },
  {
   "cell_type": "code",
   "execution_count": 47,
   "metadata": {
    "colab": {
     "base_uri": "https://localhost:8080/"
    },
    "id": "FXA1yB15-ehT",
    "outputId": "7379e422-decb-4e9a-ede6-b3f29c7bb15c"
   },
   "outputs": [
    {
     "name": "stdout",
     "output_type": "stream",
     "text": [
      "roc_auc_score: 0.997\n"
     ]
    }
   ],
   "source": [
    "print('roc_auc_score: %0.3f'% roc_auc_score(Y_pred, Y_test))"
   ]
  },
  {
   "cell_type": "code",
   "execution_count": 48,
   "metadata": {
    "id": "yQC_gtyB-lLc"
   },
   "outputs": [],
   "source": [
    "def roc_curve_acc(Y_test, Y_pred, method):\n",
    "    false_positive_rate, true_positive_rate, thresholds = roc_curve(Y_test, Y_pred)\n",
    "    roc_auc = auc(false_positive_rate, true_positive_rate)\n",
    "    plt.title('Receiver Operating Characteristic')\n",
    "    plt.plot(false_positive_rate, true_positive_rate, color='cyan' ,label='%s AUC = %0.3f'% (method, roc_auc))\n",
    "    plt.legend(loc = 'lower right')\n",
    "    plt.plot([0,1],[0,1],'r--')\n",
    "    plt.xlim([-0.1,1.2])\n",
    "    plt.ylim([-0.1,1.2])\n",
    "    plt.ylabel('True Positive Rate')\n",
    "    plt.xlabel('False Positive Rate')"
   ]
  },
  {
   "cell_type": "code",
   "execution_count": 49,
   "metadata": {
    "colab": {
     "base_uri": "https://localhost:8080/",
     "height": 295
    },
    "id": "5R5Xt2tl-0J7",
    "outputId": "cd8c2ec0-0e97-48de-bff4-4c04311f402a"
   },
   "outputs": [
    {
     "data": {
      "image/png": "[encoded data removed]",
      "text/plain": [
       "<Figure size 432x288 with 1 Axes>"
      ]
     },
     "metadata": {
      "needs_background": "light"
     },
     "output_type": "display_data"
    }
   ],
   "source": [
    "roc_curve_acc(Y_test, Y_pred, \"RF\")"
   ]
  },
  {
   "cell_type": "code",
   "execution_count": 50,
   "metadata": {
    "colab": {
     "base_uri": "https://localhost:8080/"
    },
    "id": "YdwaZNSS_RiA",
    "outputId": "98405a32-6d6d-490a-ac97-b243b63454d7"
   },
   "outputs": [
    {
     "data": {
      "text/plain": [
       "LogisticRegression()"
      ]
     },
     "execution_count": 50,
     "metadata": {},
     "output_type": "execute_result"
    }
   ],
   "source": [
    "from sklearn.linear_model import LogisticRegression\n",
    "LR=LogisticRegression()\n",
    "LR.fit(X_train, Y_train)\n",
    "Y_pred_LR = LR.predict(X_test)"
   ]
  },
  {
   "cell_type": "code",
   "execution_count": 51,
   "metadata": {
    "colab": {
     "base_uri": "https://localhost:8080/"
    },
    "id": "GkVUbxSP_Zbf",
    "outputId": "64c7a6f8-60d2-44ea-a6ed-f94e23c7869d"
   },
   "outputs": [
    {
     "data": {
      "text/plain": [
       "0.9895819596465779"
      ]
     },
     "execution_count": 51,
     "metadata": {},
     "output_type": "execute_result"
    }
   ],
   "source": [
    "LR.score(X_test,Y_test)"
   ]
  },
  {
   "cell_type": "code",
   "execution_count": 52,
   "metadata": {
    "colab": {
     "base_uri": "https://localhost:8080/"
    },
    "id": "vHImGqVn_dBR",
    "outputId": "41b3a7d8-0c42-4176-fd34-7cd5acfa0d6e"
   },
   "outputs": [
    {
     "name": "stdout",
     "output_type": "stream",
     "text": [
      "Logistic Regrassor Classifier accuracy: 0.990\n"
     ]
    }
   ],
   "source": [
    "print('Logistic Regrassor Classifier accuracy: %0.3f'% accuracy_score(Y_pred_LR, Y_test))"
   ]
  },
  {
   "cell_type": "code",
   "execution_count": 53,
   "metadata": {
    "colab": {
     "base_uri": "https://localhost:8080/"
    },
    "id": "dsppCWMB_fvf",
    "outputId": "5f4ab5b6-879e-43be-8ed1-c4e140145daf"
   },
   "outputs": [
    {
     "name": "stdout",
     "output_type": "stream",
     "text": [
      "Logistic Regrassor Classifier report \n",
      "               precision    recall  f1-score   support\n",
      "\n",
      "           0       1.00      0.99      0.99     22736\n",
      "           1       0.01      0.15      0.02        13\n",
      "\n",
      "    accuracy                           0.99     22749\n",
      "   macro avg       0.50      0.57      0.51     22749\n",
      "weighted avg       1.00      0.99      0.99     22749\n",
      "\n"
     ]
    }
   ],
   "source": [
    "print(\"Logistic Regrassor Classifier report \\n\", classification_report(Y_pred_LR, Y_test))"
   ]
  },
  {
   "cell_type": "code",
   "execution_count": 54,
   "metadata": {
    "colab": {
     "base_uri": "https://localhost:8080/",
     "height": 295
    },
    "id": "OopWQ8EA_je5",
    "outputId": "67528e7d-fd38-4c00-c5c6-777b8177e2e8"
   },
   "outputs": [
    {
     "data": {
      "image/png": "[encoded data removed]",
      "text/plain": [
       "<Figure size 432x288 with 1 Axes>"
      ]
     },
     "metadata": {
      "needs_background": "light"
     },
     "output_type": "display_data"
    }
   ],
   "source": [
    "roc_curve_acc(Y_test, Y_pred_LR, \"LR\")"
   ]
  },
  {
   "cell_type": "code",
   "execution_count": 55,
   "metadata": {
    "colab": {
     "base_uri": "https://localhost:8080/"
    },
    "id": "wXWj2ZAx_msE",
    "outputId": "443732d9-7a28-4a5f-fecd-226772162b1d"
   },
   "outputs": [
    {
     "data": {
      "text/plain": [
       "array([[22510,    11],\n",
       "       [  226,     2]], dtype=int64)"
      ]
     },
     "execution_count": 55,
     "metadata": {},
     "output_type": "execute_result"
    }
   ],
   "source": [
    "cnf_matrix = confusion_matrix(Y_test, Y_pred_LR)\n",
    "cnf_matrix"
   ]
  },
  {
   "cell_type": "markdown",
   "metadata": {},
   "source": [
    "# Model with SMOTE"
   ]
  },
  {
   "cell_type": "code",
   "execution_count": 56,
   "metadata": {},
   "outputs": [],
   "source": [
    "oversampler = SMOTE(random_state = 0)\n",
    "X_train, Y_train = oversampler.fit_resample(X_train, Y_train)"
   ]
  },
  {
   "cell_type": "code",
   "execution_count": 57,
   "metadata": {},
   "outputs": [
    {
     "data": {
      "text/plain": [
       "RandomForestClassifier()"
      ]
     },
     "execution_count": 57,
     "metadata": {},
     "output_type": "execute_result"
    }
   ],
   "source": [
    "RF = RandomForestClassifier()\n",
    "RF.fit(X_train, Y_train)\n",
    "Y_pred = RF.predict(X_test)"
   ]
  },
  {
   "cell_type": "code",
   "execution_count": 58,
   "metadata": {},
   "outputs": [
    {
     "data": {
      "text/plain": [
       "array([[22081,   440],\n",
       "       [  151,    77]], dtype=int64)"
      ]
     },
     "execution_count": 58,
     "metadata": {},
     "output_type": "execute_result"
    }
   ],
   "source": [
    "cm = confusion_matrix(Y_test, Y_pred)\n",
    "cm"
   ]
  },
  {
   "cell_type": "code",
   "execution_count": 59,
   "metadata": {},
   "outputs": [
    {
     "data": {
      "text/plain": [
       "0.9740208360807069"
      ]
     },
     "execution_count": 59,
     "metadata": {},
     "output_type": "execute_result"
    }
   ],
   "source": [
    "RF.score(X_test,Y_test)"
   ]
  },
  {
   "cell_type": "markdown",
   "metadata": {},
   "source": [
    "# Models with reduced features\n"
   ]
  },
  {
   "cell_type": "code",
   "execution_count": 60,
   "metadata": {},
   "outputs": [],
   "source": [
    "df_train =pd.read_csv(\"E:\\Term IV\\BDDA 1\\BDDA Projetcs\\Kaggle_Training_Dataset.csv\")\n",
    "df_test = pd.read_csv(\"E:\\Term IV\\BDDA 1\\BDDA Projetcs\\Kaggle_Test_Dataset.csv\")"
   ]
  },
  {
   "cell_type": "code",
   "execution_count": 61,
   "metadata": {},
   "outputs": [],
   "source": [
    "df_train = df_train.dropna()\n",
    "df_test = df_test.dropna()"
   ]
  },
  {
   "cell_type": "code",
   "execution_count": 62,
   "metadata": {},
   "outputs": [
    {
     "data": {
      "text/html": [
       "<div>\n",
       "<style scoped>\n",
       "    .dataframe tbody tr th:only-of-type {\n",
       "        vertical-align: middle;\n",
       "    }\n",
       "\n",
       "    .dataframe tbody tr th {\n",
       "        vertical-align: top;\n",
       "    }\n",
       "\n",
       "    .dataframe thead th {\n",
       "        text-align: right;\n",
       "    }\n",
       "</style>\n",
       "<table border=\"1\" class=\"dataframe\">\n",
       "  <thead>\n",
       "    <tr style=\"text-align: right;\">\n",
       "      <th></th>\n",
       "      <th>potential_issue</th>\n",
       "      <th>deck_risk</th>\n",
       "      <th>oe_constraint</th>\n",
       "      <th>ppap_risk</th>\n",
       "      <th>stop_auto_buy</th>\n",
       "      <th>rev_stop</th>\n",
       "      <th>went_on_backorder</th>\n",
       "    </tr>\n",
       "  </thead>\n",
       "  <tbody>\n",
       "    <tr>\n",
       "      <th>14</th>\n",
       "      <td>No</td>\n",
       "      <td>No</td>\n",
       "      <td>No</td>\n",
       "      <td>Yes</td>\n",
       "      <td>Yes</td>\n",
       "      <td>No</td>\n",
       "      <td>No</td>\n",
       "    </tr>\n",
       "    <tr>\n",
       "      <th>18</th>\n",
       "      <td>No</td>\n",
       "      <td>No</td>\n",
       "      <td>No</td>\n",
       "      <td>No</td>\n",
       "      <td>Yes</td>\n",
       "      <td>No</td>\n",
       "      <td>No</td>\n",
       "    </tr>\n",
       "    <tr>\n",
       "      <th>19</th>\n",
       "      <td>No</td>\n",
       "      <td>Yes</td>\n",
       "      <td>No</td>\n",
       "      <td>No</td>\n",
       "      <td>No</td>\n",
       "      <td>No</td>\n",
       "      <td>No</td>\n",
       "    </tr>\n",
       "    <tr>\n",
       "      <th>24</th>\n",
       "      <td>No</td>\n",
       "      <td>Yes</td>\n",
       "      <td>No</td>\n",
       "      <td>No</td>\n",
       "      <td>Yes</td>\n",
       "      <td>No</td>\n",
       "      <td>No</td>\n",
       "    </tr>\n",
       "    <tr>\n",
       "      <th>26</th>\n",
       "      <td>No</td>\n",
       "      <td>No</td>\n",
       "      <td>No</td>\n",
       "      <td>No</td>\n",
       "      <td>Yes</td>\n",
       "      <td>No</td>\n",
       "      <td>No</td>\n",
       "    </tr>\n",
       "  </tbody>\n",
       "</table>\n",
       "</div>"
      ],
      "text/plain": [
       "   potential_issue deck_risk oe_constraint ppap_risk stop_auto_buy rev_stop  \\\n",
       "14              No        No            No       Yes           Yes       No   \n",
       "18              No        No            No        No           Yes       No   \n",
       "19              No       Yes            No        No            No       No   \n",
       "24              No       Yes            No        No           Yes       No   \n",
       "26              No        No            No        No           Yes       No   \n",
       "\n",
       "   went_on_backorder  \n",
       "14                No  \n",
       "18                No  \n",
       "19                No  \n",
       "24                No  \n",
       "26                No  "
      ]
     },
     "execution_count": 62,
     "metadata": {},
     "output_type": "execute_result"
    }
   ],
   "source": [
    "ob = df_train.dtypes[df_train.dtypes=='object'].index\n",
    "df_train[ob].head()\n",
    "#hot encoding\n",
    "from sklearn.preprocessing import LabelEncoder\n",
    "le = LabelEncoder()\n",
    "for col in ob:\n",
    "    df_train[col]= le.fit_transform(df_train[col])\n",
    "# No = 0 , Yes = 1"
   ]
  },
  {
   "cell_type": "code",
   "execution_count": 63,
   "metadata": {},
   "outputs": [
    {
     "data": {
      "text/html": [
       "<div>\n",
       "<style scoped>\n",
       "    .dataframe tbody tr th:only-of-type {\n",
       "        vertical-align: middle;\n",
       "    }\n",
       "\n",
       "    .dataframe tbody tr th {\n",
       "        vertical-align: top;\n",
       "    }\n",
       "\n",
       "    .dataframe thead th {\n",
       "        text-align: right;\n",
       "    }\n",
       "</style>\n",
       "<table border=\"1\" class=\"dataframe\">\n",
       "  <thead>\n",
       "    <tr style=\"text-align: right;\">\n",
       "      <th></th>\n",
       "      <th>potential_issue</th>\n",
       "      <th>deck_risk</th>\n",
       "      <th>oe_constraint</th>\n",
       "      <th>ppap_risk</th>\n",
       "      <th>stop_auto_buy</th>\n",
       "      <th>rev_stop</th>\n",
       "      <th>went_on_backorder</th>\n",
       "    </tr>\n",
       "  </thead>\n",
       "  <tbody>\n",
       "    <tr>\n",
       "      <th>1</th>\n",
       "      <td>No</td>\n",
       "      <td>No</td>\n",
       "      <td>No</td>\n",
       "      <td>No</td>\n",
       "      <td>Yes</td>\n",
       "      <td>No</td>\n",
       "      <td>No</td>\n",
       "    </tr>\n",
       "    <tr>\n",
       "      <th>2</th>\n",
       "      <td>No</td>\n",
       "      <td>No</td>\n",
       "      <td>No</td>\n",
       "      <td>No</td>\n",
       "      <td>Yes</td>\n",
       "      <td>No</td>\n",
       "      <td>No</td>\n",
       "    </tr>\n",
       "    <tr>\n",
       "      <th>4</th>\n",
       "      <td>No</td>\n",
       "      <td>No</td>\n",
       "      <td>No</td>\n",
       "      <td>No</td>\n",
       "      <td>Yes</td>\n",
       "      <td>No</td>\n",
       "      <td>No</td>\n",
       "    </tr>\n",
       "    <tr>\n",
       "      <th>6</th>\n",
       "      <td>No</td>\n",
       "      <td>No</td>\n",
       "      <td>No</td>\n",
       "      <td>No</td>\n",
       "      <td>Yes</td>\n",
       "      <td>No</td>\n",
       "      <td>No</td>\n",
       "    </tr>\n",
       "    <tr>\n",
       "      <th>8</th>\n",
       "      <td>No</td>\n",
       "      <td>No</td>\n",
       "      <td>No</td>\n",
       "      <td>No</td>\n",
       "      <td>Yes</td>\n",
       "      <td>No</td>\n",
       "      <td>No</td>\n",
       "    </tr>\n",
       "  </tbody>\n",
       "</table>\n",
       "</div>"
      ],
      "text/plain": [
       "  potential_issue deck_risk oe_constraint ppap_risk stop_auto_buy rev_stop  \\\n",
       "1              No        No            No        No           Yes       No   \n",
       "2              No        No            No        No           Yes       No   \n",
       "4              No        No            No        No           Yes       No   \n",
       "6              No        No            No        No           Yes       No   \n",
       "8              No        No            No        No           Yes       No   \n",
       "\n",
       "  went_on_backorder  \n",
       "1                No  \n",
       "2                No  \n",
       "4                No  \n",
       "6                No  \n",
       "8                No  "
      ]
     },
     "execution_count": 63,
     "metadata": {},
     "output_type": "execute_result"
    }
   ],
   "source": [
    "ot= df_test.dtypes[df_test.dtypes=='object'].index\n",
    "df_test[ot].head()\n",
    "#hot encoding\n",
    "from sklearn.preprocessing import LabelEncoder\n",
    "le = LabelEncoder()\n",
    "for col in ot:\n",
    "    df_test[col]= le.fit_transform(df_test[col])\n",
    "# No = 0 , Yes = 1\n"
   ]
  },
  {
   "cell_type": "code",
   "execution_count": 64,
   "metadata": {},
   "outputs": [],
   "source": [
    "df_train =df_train.drop(['lead_time'],axis=1)\n",
    "df_test =df_test.drop(['lead_time'],axis=1)\n",
    "df_train =df_train.drop(['sku'],axis=1)\n",
    "df_test =df_test.drop(['sku'],axis=1)"
   ]
  },
  {
   "cell_type": "code",
   "execution_count": 65,
   "metadata": {},
   "outputs": [],
   "source": [
    "features = ['national_inv', 'sales_1_month', 'pieces_past_due', 'perf_6_month_avg',\n",
    "            'local_bo_qty', 'deck_risk', 'oe_constraint', 'ppap_risk', 'stop_auto_buy', 'rev_stop']\n",
    "\n",
    "reduced_train = df_train[features]\n",
    "reduced_test = df_test[features]\n",
    "\n",
    "# Set labels\n",
    "train_label = df_train['went_on_backorder']\n",
    "test_label = df_test['went_on_backorder']"
   ]
  },
  {
   "cell_type": "code",
   "execution_count": 66,
   "metadata": {},
   "outputs": [
    {
     "data": {
      "text/plain": [
       "14         0\n",
       "18         0\n",
       "19         0\n",
       "24         0\n",
       "26         0\n",
       "          ..\n",
       "1693045    0\n",
       "1693046    0\n",
       "1693047    0\n",
       "1693048    0\n",
       "1693049    0\n",
       "Name: went_on_backorder, Length: 1591716, dtype: int32"
      ]
     },
     "execution_count": 66,
     "metadata": {},
     "output_type": "execute_result"
    }
   ],
   "source": [
    "train_label"
   ]
  },
  {
   "cell_type": "code",
   "execution_count": 67,
   "metadata": {},
   "outputs": [],
   "source": [
    "from sklearn.neighbors import KNeighborsClassifier"
   ]
  },
  {
   "cell_type": "code",
   "execution_count": 68,
   "metadata": {},
   "outputs": [
    {
     "data": {
      "text/plain": [
       "KNeighborsClassifier()"
      ]
     },
     "execution_count": 68,
     "metadata": {},
     "output_type": "execute_result"
    },
    {
     "name": "stdout",
     "output_type": "stream",
     "text": [
      "KNN model score is 0.989058859730098\n"
     ]
    }
   ],
   "source": [
    "#KNN\n",
    "model = KNeighborsClassifier(n_neighbors=5, weights='uniform')\n",
    "model.fit(reduced_train, train_label)\n",
    "score = model.score(reduced_test, test_label)\n",
    "print('KNN model score is', score)"
   ]
  },
  {
   "cell_type": "code",
   "execution_count": 69,
   "metadata": {},
   "outputs": [],
   "source": [
    "from sklearn.svm import SVC"
   ]
  },
  {
   "cell_type": "code",
   "execution_count": 70,
   "metadata": {},
   "outputs": [
    {
     "data": {
      "text/plain": [
       "SVC(C=1, random_state=10)"
      ]
     },
     "execution_count": 70,
     "metadata": {},
     "output_type": "execute_result"
    },
    {
     "name": "stdout",
     "output_type": "stream",
     "text": [
      "SVC model score is 0.9899775814321509\n"
     ]
    }
   ],
   "source": [
    "model = SVC(C=1, kernel='rbf', random_state=10)  # Random state to get a consistent score\n",
    "model.fit(reduced_train, train_label)\n",
    "score = model.score(reduced_test, test_label)\n",
    "print('SVC model score is', score)"
   ]
  },
  {
   "cell_type": "code",
   "execution_count": 72,
   "metadata": {},
   "outputs": [
    {
     "data": {
      "text/plain": [
       "RandomForestClassifier(n_estimators=10, oob_score=True, random_state=10)"
      ]
     },
     "execution_count": 72,
     "metadata": {},
     "output_type": "execute_result"
    },
    {
     "name": "stdout",
     "output_type": "stream",
     "text": [
      "Random Forest model score is 0.9894764605037584\n"
     ]
    }
   ],
   "source": [
    "# Random Forest\n",
    "model = RandomForestClassifier(n_estimators=10, criterion='gini', min_samples_split=2,\n",
    "                               oob_score=True, random_state=10) \n",
    "                                # Random state to get a consistent score\n",
    "model.fit(reduced_train, train_label)\n",
    "score = model.score(reduced_test, test_label)\n",
    "print('Random Forest model score is', score)"
   ]
  },
  {
   "cell_type": "code",
   "execution_count": null,
   "metadata": {},
   "outputs": [],
   "source": []
  }
 ],
 "metadata": {
  "colab": {
   "collapsed_sections": [],
   "name": "Untitled8.ipynb",
   "provenance": []
  },
  "kernelspec": {
   "display_name": "Python 3",
   "language": "python",
   "name": "python3"
  },
  "language_info": {
   "codemirror_mode": {
    "name": "ipython",
    "version": 3
   },
   "file_extension": ".py",
   "mimetype": "text/x-python",
   "name": "python",
   "nbconvert_exporter": "python",
   "pygments_lexer": "ipython3",
   "version": "3.8.3"
  }
 },
 "nbformat": 4,
 "nbformat_minor": 1
}
